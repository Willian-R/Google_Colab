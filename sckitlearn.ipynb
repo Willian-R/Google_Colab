{
  "nbformat": 4,
  "nbformat_minor": 0,
  "metadata": {
    "colab": {
      "name": "sckitlearn.ipynb",
      "provenance": [],
      "authorship_tag": "ABX9TyNC6DFYsB8tbvnZEIFLhrnY",
      "include_colab_link": true
    },
    "kernelspec": {
      "name": "python3",
      "display_name": "Python 3"
    }
  },
  "cells": [
    {
      "cell_type": "markdown",
      "metadata": {
        "id": "view-in-github",
        "colab_type": "text"
      },
      "source": [
        "<a href=\"https://colab.research.google.com/github/Willian-R/Google_Colab/blob/master/sckitlearn.ipynb\" target=\"_parent\"><img src=\"https://colab.research.google.com/assets/colab-badge.svg\" alt=\"Open In Colab\"/></a>"
      ]
    },
    {
      "cell_type": "code",
      "metadata": {
        "id": "H3aiMxu2cYxA"
      },
      "source": [
        "from sklearn.neural_network import MLPRegressor\n",
        "from sklearn.datasets import  make_regression\n",
        "from sklearn.model_selection import train_test_split"
      ],
      "execution_count": null,
      "outputs": []
    },
    {
      "cell_type": "code",
      "metadata": {
        "id": "RqUSyP3Gc1iF"
      },
      "source": [
        "X, y = make_regression(n_samples=200, random_state=1)"
      ],
      "execution_count": null,
      "outputs": []
    },
    {
      "cell_type": "code",
      "metadata": {
        "id": "tmOsKKBvc_6l",
        "outputId": "35fd4e70-e360-4745-fe8a-06fc22b7e262",
        "colab": {
          "base_uri": "https://localhost:8080/",
          "height": 238
        }
      },
      "source": [
        "X"
      ],
      "execution_count": null,
      "outputs": [
        {
          "output_type": "execute_result",
          "data": {
            "text/plain": [
              "array([[ 4.35964951e-01,  6.56278975e-01,  4.80179809e-04, ...,\n",
              "        -2.17373330e+00, -4.53751512e-01, -1.53885818e-01],\n",
              "       [-1.04054030e+00, -2.19631333e-03,  1.41229617e+00, ...,\n",
              "        -1.24838837e+00,  3.09657106e-01,  7.13107100e-01],\n",
              "       [-6.28817482e-01, -4.36684080e-01,  1.49088673e-01, ...,\n",
              "         1.16895233e+00, -9.38234025e-03, -1.40959504e+00],\n",
              "       ...,\n",
              "       [ 1.58814951e+00,  6.05600808e-01, -1.65709505e+00, ...,\n",
              "         6.75282576e-01, -8.59941103e-01,  1.03056340e+00],\n",
              "       [-8.57014517e-01,  1.21629894e+00,  9.70696111e-01, ...,\n",
              "         1.47511687e+00,  1.21356892e+00, -9.84514530e-01],\n",
              "       [-2.45389193e+00, -1.43403073e+00,  5.40533161e-01, ...,\n",
              "         9.52547818e-01,  5.49421827e-01,  2.07229946e-01]])"
            ]
          },
          "metadata": {
            "tags": []
          },
          "execution_count": 3
        }
      ]
    },
    {
      "cell_type": "code",
      "metadata": {
        "id": "k6PabSfWVdVc"
      },
      "source": [
        "from sklearn.preprocessing import MinMaxScaler"
      ],
      "execution_count": null,
      "outputs": []
    },
    {
      "cell_type": "code",
      "metadata": {
        "id": "ntnBVJf1Viox"
      },
      "source": [
        "pre = MinMaxScaler()"
      ],
      "execution_count": null,
      "outputs": []
    },
    {
      "cell_type": "code",
      "metadata": {
        "id": "USguJg4cV5fJ",
        "outputId": "b9ddb355-6769-4999-8864-e472c74f3433",
        "colab": {
          "base_uri": "https://localhost:8080/",
          "height": 136
        }
      },
      "source": [
        "w = pre.fit_transform(X)\n",
        "print(w)\n",
        "X_train, X_test, y_train, y_test = train_test_split(w, y, test_size=0.30, random_state=42)"
      ],
      "execution_count": null,
      "outputs": [
        {
          "output_type": "stream",
          "text": [
            "[[0.53849796 0.67165789 0.55061365 ... 0.08717505 0.36709735 0.32678704]\n",
            " [0.27181601 0.53867371 0.80831695 ... 0.2761312  0.5138262  0.46871348]\n",
            " [0.34618015 0.45092554 0.57773963 ... 0.76975405 0.4525061  0.12122787]\n",
            " ...\n",
            " [0.74660208 0.66142304 0.24805112 ... 0.6689463  0.28902679 0.52068097]\n",
            " [0.30496389 0.78475825 0.72771027 ... 0.83227308 0.68756009 0.1908134 ]\n",
            " [0.01654068 0.24950367 0.64919125 ... 0.72556408 0.55990952 0.38590157]]\n"
          ],
          "name": "stdout"
        }
      ]
    },
    {
      "cell_type": "code",
      "metadata": {
        "id": "RufuIvzDWAUB"
      },
      "source": [
        "pre.inverse_transform(w)"
      ],
      "execution_count": null,
      "outputs": []
    },
    {
      "cell_type": "code",
      "metadata": {
        "id": "CvV7LjpSWFuJ"
      },
      "source": [
        ""
      ],
      "execution_count": null,
      "outputs": []
    }
  ]
}