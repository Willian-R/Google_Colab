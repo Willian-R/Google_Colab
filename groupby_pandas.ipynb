{
  "nbformat": 4,
  "nbformat_minor": 0,
  "metadata": {
    "colab": {
      "name": "groupby_pandas",
      "provenance": [],
      "collapsed_sections": []
    },
    "kernelspec": {
      "name": "python3",
      "display_name": "Python 3"
    }
  },
  "cells": [
    {
      "cell_type": "markdown",
      "metadata": {
        "id": "vyk35S3KwnfN",
        "colab_type": "text"
      },
      "source": [
        "# GroupBy (pacote pandas) - Microdados do ENEM"
      ]
    },
    {
      "cell_type": "code",
      "metadata": {
        "id": "pjZq99VCwuwF",
        "colab_type": "code",
        "colab": {}
      },
      "source": [
        "import pandas as pd\n",
        "import matplotlib\n",
        "import zipfile"
      ],
      "execution_count": null,
      "outputs": []
    },
    {
      "cell_type": "code",
      "metadata": {
        "id": "pLPIJHniwx6Y",
        "colab_type": "code",
        "colab": {
          "base_uri": "https://localhost:8080/",
          "height": 1000
        },
        "outputId": "53df4cce-74f9-46da-c118-8af18222db3e"
      },
      "source": [
        "with zipfile.ZipFile('/content/drive/My Drive/microdados_enem2018.zip') as z:\n",
        "  print(*z.namelist(), sep='\\n')"
      ],
      "execution_count": null,
      "outputs": [
        {
          "output_type": "stream",
          "text": [
            "LEIA-ME e DOCUMENTOS TÉCNICOS/\n",
            "LEIA-ME e DOCUMENTOS TÉCNICOS/edital_enem_2018.pdf\n",
            "LEIA-ME e DOCUMENTOS TÉCNICOS/matriz_referencia.pdf\n",
            "LEIA-ME e DOCUMENTOS TÉCNICOS/manual_de_redacao_do_enem_2018.pdf\n",
            "LEIA-ME e DOCUMENTOS TÉCNICOS/Leia_Me_Enem_2018.pdf\n",
            "PLANILHAS_TS_ITEM/\n",
            "PROVAS E GABARITOS/\n",
            "PROVAS E GABARITOS/ENEM_2018_P1_CAD_02_DIA_1_AMARELO.pdf\n",
            "PROVAS E GABARITOS/ENEM_2018_P1_CAD_03_DIA_1_BRANCO.pdf\n",
            "PROVAS E GABARITOS/ENEM_2018_P1_CAD_09_DIA_1_LARANJA_LEDOR.pdf\n",
            "PROVAS E GABARITOS/ENEM_2018_P1_CAD_10_DIA_1_VERDE_LIBRAS.pdf\n",
            "PROVAS E GABARITOS/ENEM_2018_P1_CAD_01_DIA_1_AZUL.pdf\n",
            "PROVAS E GABARITOS/ENEM_2018_P1_CAD_05_DIA_2_AMARELO.pdf\n",
            "PROVAS E GABARITOS/ENEM_2018_P1_CAD_01_DIA_1_AZUL_AMPLIADA.pdf\n",
            "PROVAS E GABARITOS/ENEM_2018_P1_CAD_06_DIA_2_CINZA.pdf\n",
            "PROVAS E GABARITOS/ENEM_2018_P1_CAD_07_DIA_2_AZUL.pdf\n",
            "PROVAS E GABARITOS/ENEM_2018_P1_CAD_08_DIA_2_ROSA.pdf\n",
            "PROVAS E GABARITOS/ENEM_2018_P1_CAD_11_DIA_2_LARANJA_LEDOR.pdf\n",
            "PROVAS E GABARITOS/ENEM_2018_P1_CAD_12_DIA_2_VERDE_LIBRAS.pdf\n",
            "PROVAS E GABARITOS/ENEM_2018_P1_CAD_05_DIA_2_SUPERAMPLIADA.pdf.pdf\n",
            "PROVAS E GABARITOS/ENEM_2018_P1_GAB_01_DIA_1_AZUL.pdf\n",
            "PROVAS E GABARITOS/ENEM_2018_P2_GAB_04_DIA_1_ROSA.pdf\n",
            "PROVAS E GABARITOS/ENEM_2018_P2_CAD_02_DIA_1_AMARELO.pdf\n",
            "PROVAS E GABARITOS/ENEM_2018_P2_CAD_03_DIA_1_BRANCO.pdf\n",
            "PROVAS E GABARITOS/ENEM_2018_P2_CAD_04_DIA_1_ROSA.pdf\n",
            "PROVAS E GABARITOS/ENEM_2018_P2_CAD_05_DIA_2_AMARELO.pdf\n",
            "PROVAS E GABARITOS/ENEM_2018_P2_CAD_06_DIA_2_CINZA.pdf\n",
            "PROVAS E GABARITOS/ENEM_2018_P2_CAD_07_DIA_2_AZUL.pdf\n",
            "PROVAS E GABARITOS/ENEM_2018_P2_CAD_08_DIA_2_ROSA.pdf\n",
            "PROVAS E GABARITOS/ENEM_2018_P2_GAB_01_DIA_1_AZUL.pdf\n",
            "PROVAS E GABARITOS/ENEM_2018_P1_GAB_03_DIA_1_BRANCO.pdf\n",
            "PROVAS E GABARITOS/ENEM_2018_P1_GAB_02_DIA_1_AMARELO.pdf\n",
            "PROVAS E GABARITOS/ENEM_2018_P1_GAB_04_DIA_1_ROSA.pdf\n",
            "PROVAS E GABARITOS/ENEM_2018_P1_GAB_09_DIA_1_LARANJA_LEDOR.pdf\n",
            "PROVAS E GABARITOS/ENEM_2018_P2_GAB_03_DIA_1_BRANCO.pdf\n",
            "PROVAS E GABARITOS/ENEM_2018_P2_GAB_02_DIA_1_AMARELO.pdf\n",
            "PROVAS E GABARITOS/ENEM_2018_P2_GAB_05_DIA_2_AMARELO.pdf\n",
            "PROVAS E GABARITOS/ENEM_2018_P1_GAB_05_DIA_2_AMARELO.pdf.pdf\n",
            "PROVAS E GABARITOS/ENEM_2018_P1_GAB_06_DIA_2_CINZA.pdf\n",
            "PROVAS E GABARITOS/ENEM_2018_P1_GAB_08_DIA_2_ROSA.pdf\n",
            "PROVAS E GABARITOS/ENEM_2018_P1_GAB_07_DIA_2_AZUL.pdf\n",
            "PROVAS E GABARITOS/ENEM_2018_P1_GAB_12_DIA_2_VERDE_LIBRAS.pdf\n",
            "PROVAS E GABARITOS/ENEM_2018_P2_GAB_06_DIA_2_CINZA.pdf\n",
            "PROVAS E GABARITOS/ENEM_2018_P2_GAB_07_DIA_2_AZUL.pdf\n",
            "PROVAS E GABARITOS/ENEM_2018_P1_GAB_11_DIA_2_LARANJA_LEDOR.pdf\n",
            "PROVAS E GABARITOS/ENEM_2018_P2_CAD_01_DIA_1_AZUL.pdf\n",
            "PROVAS E GABARITOS/ENEM_2018_P1_CAD_04_DIA_1_ROSA.pdf\n",
            "PROVAS E GABARITOS/ENEM_2018_P1_GAB_10_DIA_1_VERDE_LIBRAS.pdf.pdf\n",
            "PROVAS E GABARITOS/ENEM_2018_P2_GAB_08_DIA_2_ROSA.pdf\n",
            "PROVAS E GABARITOS/ENEM_2018_P1_CAD_01_DIA_1_AZUL_SUPERAMPLIADA.pdf\n",
            "PROVAS E GABARITOS/ENEM_2018_P1_CAD_05_DIA_2_AMPLIADA.pdf\n",
            "PROVAS E GABARITOS/ENEM_2018_P1_GAB_01_DIA_1_AZUL_AMPLIADA.pdf\n",
            "PROVAS E GABARITOS/ENEM_2018_P1_GAB_01_DIA_1_AZUL_SUPERAMPLIADA.pdf\n",
            "DADOS/\n",
            "DADOS/MICRODADOS_ENEM_2018.csv\n",
            "DADOS/ITENS_PROVA_2018.csv\n",
            "DICION╡RIO/\n",
            "DICION╡RIO/Dicionário_Microdados_Enem_2018.ods\n",
            "DICION╡RIO/Dicionário_Microdados_Enem_2018.xlsx\n",
            "INPUTS/\n",
            "INPUTS/INPUT_R_MICRODADOS_ENEM_2018.R\n",
            "INPUTS/INPUT_R_ITENS_PROVA_2018.R\n",
            "INPUTS/INPUT_SPSS_ITENS_PROVA_2018.sps\n",
            "INPUTS/INPUT_SAS_ITENS_PROVA_2018.sas\n",
            "INPUTS/INPUT_SPSS_MICRODADOS_ENEM_2018.sps\n",
            "INPUTS/INPUT_SAS_MICRODADOS_ENEM_2018.sas\n"
          ],
          "name": "stdout"
        }
      ]
    },
    {
      "cell_type": "code",
      "metadata": {
        "id": "BivVBBQZxA49",
        "colab_type": "code",
        "colab": {}
      },
      "source": [
        "with zipfile.ZipFile('/content/drive/My Drive/microdados_enem2018.zip') as z:\n",
        "  with z.open('DADOS/MICRODADOS_ENEM_2018.csv') as f:\n",
        "    microdadosEnem = pd.read_csv(f, sep=';', encoding='ISO-8859-1', nrows=0)"
      ],
      "execution_count": null,
      "outputs": []
    },
    {
      "cell_type": "code",
      "metadata": {
        "id": "TKbgJFkuxVJJ",
        "colab_type": "code",
        "colab": {
          "base_uri": "https://localhost:8080/",
          "height": 680
        },
        "outputId": "c96a4841-6473-4d51-b52d-4f071efe1643"
      },
      "source": [
        "microdadosEnem.columns.values"
      ],
      "execution_count": null,
      "outputs": [
        {
          "output_type": "execute_result",
          "data": {
            "text/plain": [
              "array(['NU_INSCRICAO', 'NU_ANO', 'CO_MUNICIPIO_RESIDENCIA',\n",
              "       'NO_MUNICIPIO_RESIDENCIA', 'CO_UF_RESIDENCIA', 'SG_UF_RESIDENCIA',\n",
              "       'NU_IDADE', 'TP_SEXO', 'TP_ESTADO_CIVIL', 'TP_COR_RACA',\n",
              "       'TP_NACIONALIDADE', 'CO_MUNICIPIO_NASCIMENTO',\n",
              "       'NO_MUNICIPIO_NASCIMENTO', 'CO_UF_NASCIMENTO', 'SG_UF_NASCIMENTO',\n",
              "       'TP_ST_CONCLUSAO', 'TP_ANO_CONCLUIU', 'TP_ESCOLA', 'TP_ENSINO',\n",
              "       'IN_TREINEIRO', 'CO_ESCOLA', 'CO_MUNICIPIO_ESC',\n",
              "       'NO_MUNICIPIO_ESC', 'CO_UF_ESC', 'SG_UF_ESC',\n",
              "       'TP_DEPENDENCIA_ADM_ESC', 'TP_LOCALIZACAO_ESC', 'TP_SIT_FUNC_ESC',\n",
              "       'IN_BAIXA_VISAO', 'IN_CEGUEIRA', 'IN_SURDEZ',\n",
              "       'IN_DEFICIENCIA_AUDITIVA', 'IN_SURDO_CEGUEIRA',\n",
              "       'IN_DEFICIENCIA_FISICA', 'IN_DEFICIENCIA_MENTAL',\n",
              "       'IN_DEFICIT_ATENCAO', 'IN_DISLEXIA', 'IN_DISCALCULIA',\n",
              "       'IN_AUTISMO', 'IN_VISAO_MONOCULAR', 'IN_OUTRA_DEF', 'IN_GESTANTE',\n",
              "       'IN_LACTANTE', 'IN_IDOSO', 'IN_ESTUDA_CLASSE_HOSPITALAR',\n",
              "       'IN_SEM_RECURSO', 'IN_BRAILLE', 'IN_AMPLIADA_24', 'IN_AMPLIADA_18',\n",
              "       'IN_LEDOR', 'IN_ACESSO', 'IN_TRANSCRICAO', 'IN_LIBRAS',\n",
              "       'IN_LEITURA_LABIAL', 'IN_MESA_CADEIRA_RODAS',\n",
              "       'IN_MESA_CADEIRA_SEPARADA', 'IN_APOIO_PERNA', 'IN_GUIA_INTERPRETE',\n",
              "       'IN_COMPUTADOR', 'IN_CADEIRA_ESPECIAL', 'IN_CADEIRA_CANHOTO',\n",
              "       'IN_CADEIRA_ACOLCHOADA', 'IN_PROVA_DEITADO', 'IN_MOBILIARIO_OBESO',\n",
              "       'IN_LAMINA_OVERLAY', 'IN_PROTETOR_AURICULAR', 'IN_MEDIDOR_GLICOSE',\n",
              "       'IN_MAQUINA_BRAILE', 'IN_SOROBAN', 'IN_MARCA_PASSO', 'IN_SONDA',\n",
              "       'IN_MEDICAMENTOS', 'IN_SALA_INDIVIDUAL', 'IN_SALA_ESPECIAL',\n",
              "       'IN_SALA_ACOMPANHANTE', 'IN_MOBILIARIO_ESPECIFICO',\n",
              "       'IN_MATERIAL_ESPECIFICO', 'IN_NOME_SOCIAL', 'CO_MUNICIPIO_PROVA',\n",
              "       'NO_MUNICIPIO_PROVA', 'CO_UF_PROVA', 'SG_UF_PROVA',\n",
              "       'TP_PRESENCA_CN', 'TP_PRESENCA_CH', 'TP_PRESENCA_LC',\n",
              "       'TP_PRESENCA_MT', 'CO_PROVA_CN', 'CO_PROVA_CH', 'CO_PROVA_LC',\n",
              "       'CO_PROVA_MT', 'NU_NOTA_CN', 'NU_NOTA_CH', 'NU_NOTA_LC',\n",
              "       'NU_NOTA_MT', 'TX_RESPOSTAS_CN', 'TX_RESPOSTAS_CH',\n",
              "       'TX_RESPOSTAS_LC', 'TX_RESPOSTAS_MT', 'TP_LINGUA',\n",
              "       'TX_GABARITO_CN', 'TX_GABARITO_CH', 'TX_GABARITO_LC',\n",
              "       'TX_GABARITO_MT', 'TP_STATUS_REDACAO', 'NU_NOTA_COMP1',\n",
              "       'NU_NOTA_COMP2', 'NU_NOTA_COMP3', 'NU_NOTA_COMP4', 'NU_NOTA_COMP5',\n",
              "       'NU_NOTA_REDACAO', 'Q001', 'Q002', 'Q003', 'Q004', 'Q005', 'Q006',\n",
              "       'Q007', 'Q008', 'Q009', 'Q010', 'Q011', 'Q012', 'Q013', 'Q014',\n",
              "       'Q015', 'Q016', 'Q017', 'Q018', 'Q019', 'Q020', 'Q021', 'Q022',\n",
              "       'Q023', 'Q024', 'Q025', 'Q026', 'Q027'], dtype=object)"
            ]
          },
          "metadata": {
            "tags": []
          },
          "execution_count": 5
        }
      ]
    },
    {
      "cell_type": "code",
      "metadata": {
        "id": "V3wpA5lexYr3",
        "colab_type": "code",
        "colab": {}
      },
      "source": [
        "colunasSelecionadas = ['TP_SEXO', 'NU_NOTA_REDACAO']"
      ],
      "execution_count": null,
      "outputs": []
    },
    {
      "cell_type": "code",
      "metadata": {
        "id": "SQI1VINMxj-_",
        "colab_type": "code",
        "colab": {}
      },
      "source": [
        "with zipfile.ZipFile('/content/drive/My Drive/microdados_enem2018.zip') as z:\n",
        "  with z.open('DADOS/MICRODADOS_ENEM_2018.csv') as f:\n",
        "    microdadosEnemSexoRedacao = pd.read_csv(f, sep=';', encoding='ISO-8859-1', usecols=colunasSelecionadas)"
      ],
      "execution_count": null,
      "outputs": []
    },
    {
      "cell_type": "code",
      "metadata": {
        "id": "OqA_5OYGxvCf",
        "colab_type": "code",
        "colab": {
          "base_uri": "https://localhost:8080/",
          "height": 204
        },
        "outputId": "318ea6b6-8a2f-4476-d0e8-c0c826928d63"
      },
      "source": [
        "microdadosEnemSexoRedacao.head()"
      ],
      "execution_count": null,
      "outputs": [
        {
          "output_type": "execute_result",
          "data": {
            "text/html": [
              "<div>\n",
              "<style scoped>\n",
              "    .dataframe tbody tr th:only-of-type {\n",
              "        vertical-align: middle;\n",
              "    }\n",
              "\n",
              "    .dataframe tbody tr th {\n",
              "        vertical-align: top;\n",
              "    }\n",
              "\n",
              "    .dataframe thead th {\n",
              "        text-align: right;\n",
              "    }\n",
              "</style>\n",
              "<table border=\"1\" class=\"dataframe\">\n",
              "  <thead>\n",
              "    <tr style=\"text-align: right;\">\n",
              "      <th></th>\n",
              "      <th>TP_SEXO</th>\n",
              "      <th>NU_NOTA_REDACAO</th>\n",
              "    </tr>\n",
              "  </thead>\n",
              "  <tbody>\n",
              "    <tr>\n",
              "      <th>0</th>\n",
              "      <td>M</td>\n",
              "      <td>NaN</td>\n",
              "    </tr>\n",
              "    <tr>\n",
              "      <th>1</th>\n",
              "      <td>F</td>\n",
              "      <td>280.0</td>\n",
              "    </tr>\n",
              "    <tr>\n",
              "      <th>2</th>\n",
              "      <td>F</td>\n",
              "      <td>NaN</td>\n",
              "    </tr>\n",
              "    <tr>\n",
              "      <th>3</th>\n",
              "      <td>F</td>\n",
              "      <td>NaN</td>\n",
              "    </tr>\n",
              "    <tr>\n",
              "      <th>4</th>\n",
              "      <td>M</td>\n",
              "      <td>360.0</td>\n",
              "    </tr>\n",
              "  </tbody>\n",
              "</table>\n",
              "</div>"
            ],
            "text/plain": [
              "  TP_SEXO  NU_NOTA_REDACAO\n",
              "0       M              NaN\n",
              "1       F            280.0\n",
              "2       F              NaN\n",
              "3       F              NaN\n",
              "4       M            360.0"
            ]
          },
          "metadata": {
            "tags": []
          },
          "execution_count": 10
        }
      ]
    },
    {
      "cell_type": "code",
      "metadata": {
        "id": "w3Q9HrEfx54H",
        "colab_type": "code",
        "colab": {}
      },
      "source": [
        "# para retirar o 'NOT A NUMBER' (NaN) utiliza-se método dropna do pacote pandas\n",
        "microdadosEnemSexoRedacao = microdadosEnemSexoRedacao.dropna()"
      ],
      "execution_count": null,
      "outputs": []
    },
    {
      "cell_type": "code",
      "metadata": {
        "id": "FvpKVipTyjQu",
        "colab_type": "code",
        "colab": {
          "base_uri": "https://localhost:8080/",
          "height": 204
        },
        "outputId": "1e6587f8-e66a-4286-8a7d-ccf873401967"
      },
      "source": [
        "microdadosEnemSexoRedacao.head()"
      ],
      "execution_count": null,
      "outputs": [
        {
          "output_type": "execute_result",
          "data": {
            "text/html": [
              "<div>\n",
              "<style scoped>\n",
              "    .dataframe tbody tr th:only-of-type {\n",
              "        vertical-align: middle;\n",
              "    }\n",
              "\n",
              "    .dataframe tbody tr th {\n",
              "        vertical-align: top;\n",
              "    }\n",
              "\n",
              "    .dataframe thead th {\n",
              "        text-align: right;\n",
              "    }\n",
              "</style>\n",
              "<table border=\"1\" class=\"dataframe\">\n",
              "  <thead>\n",
              "    <tr style=\"text-align: right;\">\n",
              "      <th></th>\n",
              "      <th>TP_SEXO</th>\n",
              "      <th>NU_NOTA_REDACAO</th>\n",
              "    </tr>\n",
              "  </thead>\n",
              "  <tbody>\n",
              "    <tr>\n",
              "      <th>1</th>\n",
              "      <td>F</td>\n",
              "      <td>280.0</td>\n",
              "    </tr>\n",
              "    <tr>\n",
              "      <th>4</th>\n",
              "      <td>M</td>\n",
              "      <td>360.0</td>\n",
              "    </tr>\n",
              "    <tr>\n",
              "      <th>5</th>\n",
              "      <td>F</td>\n",
              "      <td>580.0</td>\n",
              "    </tr>\n",
              "    <tr>\n",
              "      <th>7</th>\n",
              "      <td>M</td>\n",
              "      <td>680.0</td>\n",
              "    </tr>\n",
              "    <tr>\n",
              "      <th>8</th>\n",
              "      <td>M</td>\n",
              "      <td>340.0</td>\n",
              "    </tr>\n",
              "  </tbody>\n",
              "</table>\n",
              "</div>"
            ],
            "text/plain": [
              "  TP_SEXO  NU_NOTA_REDACAO\n",
              "1       F            280.0\n",
              "4       M            360.0\n",
              "5       F            580.0\n",
              "7       M            680.0\n",
              "8       M            340.0"
            ]
          },
          "metadata": {
            "tags": []
          },
          "execution_count": 13
        }
      ]
    },
    {
      "cell_type": "code",
      "metadata": {
        "id": "7lKHPPJXym4_",
        "colab_type": "code",
        "colab": {
          "base_uri": "https://localhost:8080/",
          "height": 142
        },
        "outputId": "5501743f-806a-42e6-a097-5a66c5910c6d"
      },
      "source": [
        "# utilizando o Groupby do pandas para ver a distribuição entre masculino e feminino\n",
        "microdadosEnemSexoRedacao.groupby('TP_SEXO').count()"
      ],
      "execution_count": null,
      "outputs": [
        {
          "output_type": "execute_result",
          "data": {
            "text/html": [
              "<div>\n",
              "<style scoped>\n",
              "    .dataframe tbody tr th:only-of-type {\n",
              "        vertical-align: middle;\n",
              "    }\n",
              "\n",
              "    .dataframe tbody tr th {\n",
              "        vertical-align: top;\n",
              "    }\n",
              "\n",
              "    .dataframe thead th {\n",
              "        text-align: right;\n",
              "    }\n",
              "</style>\n",
              "<table border=\"1\" class=\"dataframe\">\n",
              "  <thead>\n",
              "    <tr style=\"text-align: right;\">\n",
              "      <th></th>\n",
              "      <th>NU_NOTA_REDACAO</th>\n",
              "    </tr>\n",
              "    <tr>\n",
              "      <th>TP_SEXO</th>\n",
              "      <th></th>\n",
              "    </tr>\n",
              "  </thead>\n",
              "  <tbody>\n",
              "    <tr>\n",
              "      <th>F</th>\n",
              "      <td>2454691</td>\n",
              "    </tr>\n",
              "    <tr>\n",
              "      <th>M</th>\n",
              "      <td>1693573</td>\n",
              "    </tr>\n",
              "  </tbody>\n",
              "</table>\n",
              "</div>"
            ],
            "text/plain": [
              "         NU_NOTA_REDACAO\n",
              "TP_SEXO                 \n",
              "F                2454691\n",
              "M                1693573"
            ]
          },
          "metadata": {
            "tags": []
          },
          "execution_count": 15
        }
      ]
    },
    {
      "cell_type": "code",
      "metadata": {
        "id": "9u04sFoWy9_H",
        "colab_type": "code",
        "colab": {
          "base_uri": "https://localhost:8080/",
          "height": 142
        },
        "outputId": "bde0d2dc-5ad7-42de-a2a0-4d7879ed682e"
      },
      "source": [
        "# para verificar a nota máxima de cada sexo utilizando o método max do groupby\n",
        "microdadosEnemSexoRedacao.groupby('TP_SEXO').max()"
      ],
      "execution_count": null,
      "outputs": [
        {
          "output_type": "execute_result",
          "data": {
            "text/html": [
              "<div>\n",
              "<style scoped>\n",
              "    .dataframe tbody tr th:only-of-type {\n",
              "        vertical-align: middle;\n",
              "    }\n",
              "\n",
              "    .dataframe tbody tr th {\n",
              "        vertical-align: top;\n",
              "    }\n",
              "\n",
              "    .dataframe thead th {\n",
              "        text-align: right;\n",
              "    }\n",
              "</style>\n",
              "<table border=\"1\" class=\"dataframe\">\n",
              "  <thead>\n",
              "    <tr style=\"text-align: right;\">\n",
              "      <th></th>\n",
              "      <th>NU_NOTA_REDACAO</th>\n",
              "    </tr>\n",
              "    <tr>\n",
              "      <th>TP_SEXO</th>\n",
              "      <th></th>\n",
              "    </tr>\n",
              "  </thead>\n",
              "  <tbody>\n",
              "    <tr>\n",
              "      <th>F</th>\n",
              "      <td>1000.0</td>\n",
              "    </tr>\n",
              "    <tr>\n",
              "      <th>M</th>\n",
              "      <td>1000.0</td>\n",
              "    </tr>\n",
              "  </tbody>\n",
              "</table>\n",
              "</div>"
            ],
            "text/plain": [
              "         NU_NOTA_REDACAO\n",
              "TP_SEXO                 \n",
              "F                 1000.0\n",
              "M                 1000.0"
            ]
          },
          "metadata": {
            "tags": []
          },
          "execution_count": 16
        }
      ]
    },
    {
      "cell_type": "code",
      "metadata": {
        "id": "gKObo51mztiv",
        "colab_type": "code",
        "colab": {
          "base_uri": "https://localhost:8080/",
          "height": 142
        },
        "outputId": "5887ec0f-beef-45b1-88b8-56adab2d34b0"
      },
      "source": [
        "# para verificar a nota mínima de cada sexo utilizando o método min do groupby\n",
        "microdadosEnemSexoRedacao.groupby('TP_SEXO').min()"
      ],
      "execution_count": null,
      "outputs": [
        {
          "output_type": "execute_result",
          "data": {
            "text/html": [
              "<div>\n",
              "<style scoped>\n",
              "    .dataframe tbody tr th:only-of-type {\n",
              "        vertical-align: middle;\n",
              "    }\n",
              "\n",
              "    .dataframe tbody tr th {\n",
              "        vertical-align: top;\n",
              "    }\n",
              "\n",
              "    .dataframe thead th {\n",
              "        text-align: right;\n",
              "    }\n",
              "</style>\n",
              "<table border=\"1\" class=\"dataframe\">\n",
              "  <thead>\n",
              "    <tr style=\"text-align: right;\">\n",
              "      <th></th>\n",
              "      <th>NU_NOTA_REDACAO</th>\n",
              "    </tr>\n",
              "    <tr>\n",
              "      <th>TP_SEXO</th>\n",
              "      <th></th>\n",
              "    </tr>\n",
              "  </thead>\n",
              "  <tbody>\n",
              "    <tr>\n",
              "      <th>F</th>\n",
              "      <td>0.0</td>\n",
              "    </tr>\n",
              "    <tr>\n",
              "      <th>M</th>\n",
              "      <td>0.0</td>\n",
              "    </tr>\n",
              "  </tbody>\n",
              "</table>\n",
              "</div>"
            ],
            "text/plain": [
              "         NU_NOTA_REDACAO\n",
              "TP_SEXO                 \n",
              "F                    0.0\n",
              "M                    0.0"
            ]
          },
          "metadata": {
            "tags": []
          },
          "execution_count": 17
        }
      ]
    },
    {
      "cell_type": "code",
      "metadata": {
        "id": "r6FNVfj7z8KG",
        "colab_type": "code",
        "colab": {
          "base_uri": "https://localhost:8080/",
          "height": 142
        },
        "outputId": "19a5ed89-9dad-4eb3-d2f3-4cdfb9740848"
      },
      "source": [
        "# observar a nota mínima acima de zero para os sexos\n",
        "microdadosEnemSexoRedacao[microdadosEnemSexoRedacao.NU_NOTA_REDACAO > 0].groupby('TP_SEXO').min()"
      ],
      "execution_count": null,
      "outputs": [
        {
          "output_type": "execute_result",
          "data": {
            "text/html": [
              "<div>\n",
              "<style scoped>\n",
              "    .dataframe tbody tr th:only-of-type {\n",
              "        vertical-align: middle;\n",
              "    }\n",
              "\n",
              "    .dataframe tbody tr th {\n",
              "        vertical-align: top;\n",
              "    }\n",
              "\n",
              "    .dataframe thead th {\n",
              "        text-align: right;\n",
              "    }\n",
              "</style>\n",
              "<table border=\"1\" class=\"dataframe\">\n",
              "  <thead>\n",
              "    <tr style=\"text-align: right;\">\n",
              "      <th></th>\n",
              "      <th>NU_NOTA_REDACAO</th>\n",
              "    </tr>\n",
              "    <tr>\n",
              "      <th>TP_SEXO</th>\n",
              "      <th></th>\n",
              "    </tr>\n",
              "  </thead>\n",
              "  <tbody>\n",
              "    <tr>\n",
              "      <th>F</th>\n",
              "      <td>40.0</td>\n",
              "    </tr>\n",
              "    <tr>\n",
              "      <th>M</th>\n",
              "      <td>40.0</td>\n",
              "    </tr>\n",
              "  </tbody>\n",
              "</table>\n",
              "</div>"
            ],
            "text/plain": [
              "         NU_NOTA_REDACAO\n",
              "TP_SEXO                 \n",
              "F                   40.0\n",
              "M                   40.0"
            ]
          },
          "metadata": {
            "tags": []
          },
          "execution_count": 18
        }
      ]
    },
    {
      "cell_type": "code",
      "metadata": {
        "id": "yqjcYdBn0jH-",
        "colab_type": "code",
        "colab": {
          "base_uri": "https://localhost:8080/",
          "height": 142
        },
        "outputId": "c5752ae6-4a9f-48cf-8e6d-ff620772136b"
      },
      "source": [
        "# para verificar a média da nota entre os sexos\n",
        "microdadosEnemSexoRedacao.groupby('TP_SEXO').mean()"
      ],
      "execution_count": null,
      "outputs": [
        {
          "output_type": "execute_result",
          "data": {
            "text/html": [
              "<div>\n",
              "<style scoped>\n",
              "    .dataframe tbody tr th:only-of-type {\n",
              "        vertical-align: middle;\n",
              "    }\n",
              "\n",
              "    .dataframe tbody tr th {\n",
              "        vertical-align: top;\n",
              "    }\n",
              "\n",
              "    .dataframe thead th {\n",
              "        text-align: right;\n",
              "    }\n",
              "</style>\n",
              "<table border=\"1\" class=\"dataframe\">\n",
              "  <thead>\n",
              "    <tr style=\"text-align: right;\">\n",
              "      <th></th>\n",
              "      <th>NU_NOTA_REDACAO</th>\n",
              "    </tr>\n",
              "    <tr>\n",
              "      <th>TP_SEXO</th>\n",
              "      <th></th>\n",
              "    </tr>\n",
              "  </thead>\n",
              "  <tbody>\n",
              "    <tr>\n",
              "      <th>F</th>\n",
              "      <td>512.529145</td>\n",
              "    </tr>\n",
              "    <tr>\n",
              "      <th>M</th>\n",
              "      <td>503.102340</td>\n",
              "    </tr>\n",
              "  </tbody>\n",
              "</table>\n",
              "</div>"
            ],
            "text/plain": [
              "         NU_NOTA_REDACAO\n",
              "TP_SEXO                 \n",
              "F             512.529145\n",
              "M             503.102340"
            ]
          },
          "metadata": {
            "tags": []
          },
          "execution_count": 19
        }
      ]
    },
    {
      "cell_type": "code",
      "metadata": {
        "id": "drRwJ7LA15cX",
        "colab_type": "code",
        "colab": {
          "base_uri": "https://localhost:8080/",
          "height": 142
        },
        "outputId": "c03f2769-7927-4fd1-ef55-39f501c697cf"
      },
      "source": [
        "# verificando a mediana da nota entre os sexos\n",
        "microdadosEnemSexoRedacao.groupby('TP_SEXO').median()"
      ],
      "execution_count": null,
      "outputs": [
        {
          "output_type": "execute_result",
          "data": {
            "text/html": [
              "<div>\n",
              "<style scoped>\n",
              "    .dataframe tbody tr th:only-of-type {\n",
              "        vertical-align: middle;\n",
              "    }\n",
              "\n",
              "    .dataframe tbody tr th {\n",
              "        vertical-align: top;\n",
              "    }\n",
              "\n",
              "    .dataframe thead th {\n",
              "        text-align: right;\n",
              "    }\n",
              "</style>\n",
              "<table border=\"1\" class=\"dataframe\">\n",
              "  <thead>\n",
              "    <tr style=\"text-align: right;\">\n",
              "      <th></th>\n",
              "      <th>NU_NOTA_REDACAO</th>\n",
              "    </tr>\n",
              "    <tr>\n",
              "      <th>TP_SEXO</th>\n",
              "      <th></th>\n",
              "    </tr>\n",
              "  </thead>\n",
              "  <tbody>\n",
              "    <tr>\n",
              "      <th>F</th>\n",
              "      <td>520.0</td>\n",
              "    </tr>\n",
              "    <tr>\n",
              "      <th>M</th>\n",
              "      <td>520.0</td>\n",
              "    </tr>\n",
              "  </tbody>\n",
              "</table>\n",
              "</div>"
            ],
            "text/plain": [
              "         NU_NOTA_REDACAO\n",
              "TP_SEXO                 \n",
              "F                  520.0\n",
              "M                  520.0"
            ]
          },
          "metadata": {
            "tags": []
          },
          "execution_count": 20
        }
      ]
    },
    {
      "cell_type": "code",
      "metadata": {
        "id": "ktbWZwu-2L53",
        "colab_type": "code",
        "colab": {
          "base_uri": "https://localhost:8080/",
          "height": 613
        },
        "outputId": "024a85b0-595c-4a9d-cd04-9bf1a000a02e"
      },
      "source": [
        "# plotar um histograma do objeto groupby\n",
        "microdadosEnemSexoRedacao.groupby('TP_SEXO').hist()"
      ],
      "execution_count": null,
      "outputs": [
        {
          "output_type": "execute_result",
          "data": {
            "text/plain": [
              "TP_SEXO\n",
              "F    [[AxesSubplot(0.125,0.125;0.775x0.755)]]\n",
              "M    [[AxesSubplot(0.125,0.125;0.775x0.755)]]\n",
              "dtype: object"
            ]
          },
          "metadata": {
            "tags": []
          },
          "execution_count": 21
        },
        {
          "output_type": "display_data",
          "data": {
            "image/png": "[encoded data removed]",
            "text/plain": [
              "<Figure size 432x288 with 1 Axes>"
            ]
          },
          "metadata": {
            "tags": [],
            "needs_background": "light"
          }
        },
        {
          "output_type": "display_data",
          "data": {
            "image/png": "[encoded data removed]",
            "text/plain": [
              "<Figure size 432x288 with 1 Axes>"
            ]
          },
          "metadata": {
            "tags": [],
            "needs_background": "light"
          }
        }
      ]
    },
    {
      "cell_type": "code",
      "metadata": {
        "id": "mLkyuzFa2ewW",
        "colab_type": "code",
        "colab": {
          "base_uri": "https://localhost:8080/",
          "height": 173
        },
        "outputId": "94c3ba9a-18e0-47e0-a099-aa84f211f692"
      },
      "source": [
        "# utilizando o método describe para uma descrição estatística do groupby\n",
        "microdadosEnemSexoRedacao.groupby('TP_SEXO').describe()"
      ],
      "execution_count": null,
      "outputs": [
        {
          "output_type": "execute_result",
          "data": {
            "text/html": [
              "<div>\n",
              "<style scoped>\n",
              "    .dataframe tbody tr th:only-of-type {\n",
              "        vertical-align: middle;\n",
              "    }\n",
              "\n",
              "    .dataframe tbody tr th {\n",
              "        vertical-align: top;\n",
              "    }\n",
              "\n",
              "    .dataframe thead tr th {\n",
              "        text-align: left;\n",
              "    }\n",
              "\n",
              "    .dataframe thead tr:last-of-type th {\n",
              "        text-align: right;\n",
              "    }\n",
              "</style>\n",
              "<table border=\"1\" class=\"dataframe\">\n",
              "  <thead>\n",
              "    <tr>\n",
              "      <th></th>\n",
              "      <th colspan=\"8\" halign=\"left\">NU_NOTA_REDACAO</th>\n",
              "    </tr>\n",
              "    <tr>\n",
              "      <th></th>\n",
              "      <th>count</th>\n",
              "      <th>mean</th>\n",
              "      <th>std</th>\n",
              "      <th>min</th>\n",
              "      <th>25%</th>\n",
              "      <th>50%</th>\n",
              "      <th>75%</th>\n",
              "      <th>max</th>\n",
              "    </tr>\n",
              "    <tr>\n",
              "      <th>TP_SEXO</th>\n",
              "      <th></th>\n",
              "      <th></th>\n",
              "      <th></th>\n",
              "      <th></th>\n",
              "      <th></th>\n",
              "      <th></th>\n",
              "      <th></th>\n",
              "      <th></th>\n",
              "    </tr>\n",
              "  </thead>\n",
              "  <tbody>\n",
              "    <tr>\n",
              "      <th>F</th>\n",
              "      <td>2454691.0</td>\n",
              "      <td>512.529145</td>\n",
              "      <td>187.440251</td>\n",
              "      <td>0.0</td>\n",
              "      <td>360.0</td>\n",
              "      <td>520.0</td>\n",
              "      <td>620.0</td>\n",
              "      <td>1000.0</td>\n",
              "    </tr>\n",
              "    <tr>\n",
              "      <th>M</th>\n",
              "      <td>1693573.0</td>\n",
              "      <td>503.102340</td>\n",
              "      <td>187.437803</td>\n",
              "      <td>0.0</td>\n",
              "      <td>360.0</td>\n",
              "      <td>520.0</td>\n",
              "      <td>620.0</td>\n",
              "      <td>1000.0</td>\n",
              "    </tr>\n",
              "  </tbody>\n",
              "</table>\n",
              "</div>"
            ],
            "text/plain": [
              "        NU_NOTA_REDACAO                          ...                      \n",
              "                  count        mean         std  ...    50%    75%     max\n",
              "TP_SEXO                                          ...                      \n",
              "F             2454691.0  512.529145  187.440251  ...  520.0  620.0  1000.0\n",
              "M             1693573.0  503.102340  187.437803  ...  520.0  620.0  1000.0\n",
              "\n",
              "[2 rows x 8 columns]"
            ]
          },
          "metadata": {
            "tags": []
          },
          "execution_count": 22
        }
      ]
    }
  ]
}