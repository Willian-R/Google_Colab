{
  "nbformat": 4,
  "nbformat_minor": 0,
  "metadata": {
    "colab": {
      "name": "manipulando_dataframe",
      "provenance": [],
      "mount_file_id": "1UqTR_pCUd9YxOzWy7WzxSVsxyiiv4M4O",
      "authorship_tag": "ABX9TyPNSOeiKNwiTHwQ56jw9U2K",
      "include_colab_link": true
    },
    "kernelspec": {
      "name": "python3",
      "display_name": "Python 3"
    }
  },
  "cells": [
    {
      "cell_type": "markdown",
      "metadata": {
        "id": "view-in-github",
        "colab_type": "text"
      },
      "source": [
        "<a href=\"https://colab.research.google.com/github/Willian-R/Google_Colab/blob/master/manipulando_dataframe.ipynb\" target=\"_parent\"><img src=\"https://colab.research.google.com/assets/colab-badge.svg\" alt=\"Open In Colab\"/></a>"
      ]
    },
    {
      "cell_type": "markdown",
      "metadata": {
        "id": "t_VggNoJatvU",
        "colab_type": "text"
      },
      "source": [
        "# Análise exploratória dos Microdados do ENEM"
      ]
    },
    {
      "cell_type": "markdown",
      "metadata": {
        "id": "KLT4NhrLa0jk",
        "colab_type": "text"
      },
      "source": [
        "importando o pacote **Pandas**"
      ]
    },
    {
      "cell_type": "code",
      "metadata": {
        "id": "nvEIcza7aoar",
        "colab_type": "code",
        "colab": {}
      },
      "source": [
        "import pandas as pd\n",
        "import zipfile"
      ],
      "execution_count": 2,
      "outputs": []
    },
    {
      "cell_type": "markdown",
      "metadata": {
        "id": "vMCpjsfgbg8D",
        "colab_type": "text"
      },
      "source": [
        "Ler o conjunto de dados"
      ]
    },
    {
      "cell_type": "code",
      "metadata": {
        "id": "TGpu8_tpa8jJ",
        "colab_type": "code",
        "colab": {}
      },
      "source": [
        "with zipfile.ZipFile('/content/drive/My Drive/microdados_enem2018.zip') as z:\n",
        "  with z.open('DADOS/MICRODADOS_ENEM_2018.csv') as f:\n",
        "    microdadosEnem = pd.read_csv(f, sep=';', encoding='ISO-8859-1', nrows=0)"
      ],
      "execution_count": 3,
      "outputs": []
    },
    {
      "cell_type": "markdown",
      "metadata": {
        "id": "wgKRxb4ibtlD",
        "colab_type": "text"
      },
      "source": [
        "Pegando a lista de colunas"
      ]
    },
    {
      "cell_type": "code",
      "metadata": {
        "id": "u5wmGNOybepW",
        "colab_type": "code",
        "colab": {
          "base_uri": "https://localhost:8080/",
          "height": 680
        },
        "outputId": "1360021f-ffa4-4caa-8d03-8a84d50896b8"
      },
      "source": [
        "microdadosEnem.columns.values"
      ],
      "execution_count": 4,
      "outputs": [
        {
          "output_type": "execute_result",
          "data": {
            "text/plain": [
              "array(['NU_INSCRICAO', 'NU_ANO', 'CO_MUNICIPIO_RESIDENCIA',\n",
              "       'NO_MUNICIPIO_RESIDENCIA', 'CO_UF_RESIDENCIA', 'SG_UF_RESIDENCIA',\n",
              "       'NU_IDADE', 'TP_SEXO', 'TP_ESTADO_CIVIL', 'TP_COR_RACA',\n",
              "       'TP_NACIONALIDADE', 'CO_MUNICIPIO_NASCIMENTO',\n",
              "       'NO_MUNICIPIO_NASCIMENTO', 'CO_UF_NASCIMENTO', 'SG_UF_NASCIMENTO',\n",
              "       'TP_ST_CONCLUSAO', 'TP_ANO_CONCLUIU', 'TP_ESCOLA', 'TP_ENSINO',\n",
              "       'IN_TREINEIRO', 'CO_ESCOLA', 'CO_MUNICIPIO_ESC',\n",
              "       'NO_MUNICIPIO_ESC', 'CO_UF_ESC', 'SG_UF_ESC',\n",
              "       'TP_DEPENDENCIA_ADM_ESC', 'TP_LOCALIZACAO_ESC', 'TP_SIT_FUNC_ESC',\n",
              "       'IN_BAIXA_VISAO', 'IN_CEGUEIRA', 'IN_SURDEZ',\n",
              "       'IN_DEFICIENCIA_AUDITIVA', 'IN_SURDO_CEGUEIRA',\n",
              "       'IN_DEFICIENCIA_FISICA', 'IN_DEFICIENCIA_MENTAL',\n",
              "       'IN_DEFICIT_ATENCAO', 'IN_DISLEXIA', 'IN_DISCALCULIA',\n",
              "       'IN_AUTISMO', 'IN_VISAO_MONOCULAR', 'IN_OUTRA_DEF', 'IN_GESTANTE',\n",
              "       'IN_LACTANTE', 'IN_IDOSO', 'IN_ESTUDA_CLASSE_HOSPITALAR',\n",
              "       'IN_SEM_RECURSO', 'IN_BRAILLE', 'IN_AMPLIADA_24', 'IN_AMPLIADA_18',\n",
              "       'IN_LEDOR', 'IN_ACESSO', 'IN_TRANSCRICAO', 'IN_LIBRAS',\n",
              "       'IN_LEITURA_LABIAL', 'IN_MESA_CADEIRA_RODAS',\n",
              "       'IN_MESA_CADEIRA_SEPARADA', 'IN_APOIO_PERNA', 'IN_GUIA_INTERPRETE',\n",
              "       'IN_COMPUTADOR', 'IN_CADEIRA_ESPECIAL', 'IN_CADEIRA_CANHOTO',\n",
              "       'IN_CADEIRA_ACOLCHOADA', 'IN_PROVA_DEITADO', 'IN_MOBILIARIO_OBESO',\n",
              "       'IN_LAMINA_OVERLAY', 'IN_PROTETOR_AURICULAR', 'IN_MEDIDOR_GLICOSE',\n",
              "       'IN_MAQUINA_BRAILE', 'IN_SOROBAN', 'IN_MARCA_PASSO', 'IN_SONDA',\n",
              "       'IN_MEDICAMENTOS', 'IN_SALA_INDIVIDUAL', 'IN_SALA_ESPECIAL',\n",
              "       'IN_SALA_ACOMPANHANTE', 'IN_MOBILIARIO_ESPECIFICO',\n",
              "       'IN_MATERIAL_ESPECIFICO', 'IN_NOME_SOCIAL', 'CO_MUNICIPIO_PROVA',\n",
              "       'NO_MUNICIPIO_PROVA', 'CO_UF_PROVA', 'SG_UF_PROVA',\n",
              "       'TP_PRESENCA_CN', 'TP_PRESENCA_CH', 'TP_PRESENCA_LC',\n",
              "       'TP_PRESENCA_MT', 'CO_PROVA_CN', 'CO_PROVA_CH', 'CO_PROVA_LC',\n",
              "       'CO_PROVA_MT', 'NU_NOTA_CN', 'NU_NOTA_CH', 'NU_NOTA_LC',\n",
              "       'NU_NOTA_MT', 'TX_RESPOSTAS_CN', 'TX_RESPOSTAS_CH',\n",
              "       'TX_RESPOSTAS_LC', 'TX_RESPOSTAS_MT', 'TP_LINGUA',\n",
              "       'TX_GABARITO_CN', 'TX_GABARITO_CH', 'TX_GABARITO_LC',\n",
              "       'TX_GABARITO_MT', 'TP_STATUS_REDACAO', 'NU_NOTA_COMP1',\n",
              "       'NU_NOTA_COMP2', 'NU_NOTA_COMP3', 'NU_NOTA_COMP4', 'NU_NOTA_COMP5',\n",
              "       'NU_NOTA_REDACAO', 'Q001', 'Q002', 'Q003', 'Q004', 'Q005', 'Q006',\n",
              "       'Q007', 'Q008', 'Q009', 'Q010', 'Q011', 'Q012', 'Q013', 'Q014',\n",
              "       'Q015', 'Q016', 'Q017', 'Q018', 'Q019', 'Q020', 'Q021', 'Q022',\n",
              "       'Q023', 'Q024', 'Q025', 'Q026', 'Q027'], dtype=object)"
            ]
          },
          "metadata": {
            "tags": []
          },
          "execution_count": 4
        }
      ]
    },
    {
      "cell_type": "markdown",
      "metadata": {
        "id": "hAKOMR7FbzN8",
        "colab_type": "text"
      },
      "source": [
        "Selecionamos apenas as colunas que nos interessam"
      ]
    },
    {
      "cell_type": "code",
      "metadata": {
        "id": "3M3oIbvxbnYU",
        "colab_type": "code",
        "colab": {}
      },
      "source": [
        "colunasSelecionadas = ['NU_INSCRICAO', 'NU_NOTA_MT', 'NU_NOTA_REDACAO', 'Q001', 'Q002', 'SG_UF_RESIDENCIA']"
      ],
      "execution_count": 5,
      "outputs": []
    },
    {
      "cell_type": "markdown",
      "metadata": {
        "id": "rBp_Oo9rcJ-s",
        "colab_type": "text"
      },
      "source": [
        "Criamos um novo DataFrame apenas com os dados que serão analisados"
      ]
    },
    {
      "cell_type": "code",
      "metadata": {
        "id": "32-3noEhcF-b",
        "colab_type": "code",
        "colab": {}
      },
      "source": [
        "with zipfile.ZipFile('/content/drive/My Drive/microdados_enem2018.zip') as z:\n",
        "  with z.open('DADOS/MICRODADOS_ENEM_2018.csv') as f:\n",
        "    microdadosEnem = pd.read_csv(f, sep=';', encoding='ISO-8859-1', usecols=colunasSelecionadas)"
      ],
      "execution_count": 6,
      "outputs": []
    },
    {
      "cell_type": "markdown",
      "metadata": {
        "id": "0q828quAca4b",
        "colab_type": "text"
      },
      "source": [
        "Visualizar a cabeça (head) do DataFrame"
      ]
    },
    {
      "cell_type": "code",
      "metadata": {
        "id": "xE15MCW0cZeK",
        "colab_type": "code",
        "colab": {
          "base_uri": "https://localhost:8080/",
          "height": 204
        },
        "outputId": "c1a6fb9c-4cd5-494b-cce5-bbc110484318"
      },
      "source": [
        "microdadosEnem.head()"
      ],
      "execution_count": 7,
      "outputs": [
        {
          "output_type": "execute_result",
          "data": {
            "text/html": [
              "<div>\n",
              "<style scoped>\n",
              "    .dataframe tbody tr th:only-of-type {\n",
              "        vertical-align: middle;\n",
              "    }\n",
              "\n",
              "    .dataframe tbody tr th {\n",
              "        vertical-align: top;\n",
              "    }\n",
              "\n",
              "    .dataframe thead th {\n",
              "        text-align: right;\n",
              "    }\n",
              "</style>\n",
              "<table border=\"1\" class=\"dataframe\">\n",
              "  <thead>\n",
              "    <tr style=\"text-align: right;\">\n",
              "      <th></th>\n",
              "      <th>NU_INSCRICAO</th>\n",
              "      <th>SG_UF_RESIDENCIA</th>\n",
              "      <th>NU_NOTA_MT</th>\n",
              "      <th>NU_NOTA_REDACAO</th>\n",
              "      <th>Q001</th>\n",
              "      <th>Q002</th>\n",
              "    </tr>\n",
              "  </thead>\n",
              "  <tbody>\n",
              "    <tr>\n",
              "      <th>0</th>\n",
              "      <td>180008202043</td>\n",
              "      <td>DF</td>\n",
              "      <td>NaN</td>\n",
              "      <td>NaN</td>\n",
              "      <td>A</td>\n",
              "      <td>A</td>\n",
              "    </tr>\n",
              "    <tr>\n",
              "      <th>1</th>\n",
              "      <td>180007197856</td>\n",
              "      <td>MA</td>\n",
              "      <td>480.3</td>\n",
              "      <td>280.0</td>\n",
              "      <td>B</td>\n",
              "      <td>B</td>\n",
              "    </tr>\n",
              "    <tr>\n",
              "      <th>2</th>\n",
              "      <td>180008517434</td>\n",
              "      <td>SP</td>\n",
              "      <td>NaN</td>\n",
              "      <td>NaN</td>\n",
              "      <td>E</td>\n",
              "      <td>E</td>\n",
              "    </tr>\n",
              "    <tr>\n",
              "      <th>3</th>\n",
              "      <td>180007661228</td>\n",
              "      <td>BA</td>\n",
              "      <td>NaN</td>\n",
              "      <td>NaN</td>\n",
              "      <td>B</td>\n",
              "      <td>C</td>\n",
              "    </tr>\n",
              "    <tr>\n",
              "      <th>4</th>\n",
              "      <td>180008787987</td>\n",
              "      <td>BA</td>\n",
              "      <td>NaN</td>\n",
              "      <td>360.0</td>\n",
              "      <td>C</td>\n",
              "      <td>E</td>\n",
              "    </tr>\n",
              "  </tbody>\n",
              "</table>\n",
              "</div>"
            ],
            "text/plain": [
              "   NU_INSCRICAO SG_UF_RESIDENCIA  NU_NOTA_MT  NU_NOTA_REDACAO Q001 Q002\n",
              "0  180008202043               DF         NaN              NaN    A    A\n",
              "1  180007197856               MA       480.3            280.0    B    B\n",
              "2  180008517434               SP         NaN              NaN    E    E\n",
              "3  180007661228               BA         NaN              NaN    B    C\n",
              "4  180008787987               BA         NaN            360.0    C    E"
            ]
          },
          "metadata": {
            "tags": []
          },
          "execution_count": 7
        }
      ]
    },
    {
      "cell_type": "markdown",
      "metadata": {
        "id": "uBnBZSkwdKjw",
        "colab_type": "text"
      },
      "source": [
        "**O que é esse NaN**\n",
        "\n",
        "**NaN** significa *Not a Number* que quer dizer que não é um número"
      ]
    },
    {
      "cell_type": "code",
      "metadata": {
        "id": "3SHaegNvcgCq",
        "colab_type": "code",
        "colab": {}
      },
      "source": [
        "microdadosEnem = microdadosEnem.dropna()"
      ],
      "execution_count": 8,
      "outputs": []
    },
    {
      "cell_type": "code",
      "metadata": {
        "id": "SPPX1WIBdpor",
        "colab_type": "code",
        "colab": {
          "base_uri": "https://localhost:8080/",
          "height": 204
        },
        "outputId": "823dbdb2-6d51-478b-8a00-a0ce384e4a98"
      },
      "source": [
        "microdadosEnem.head()"
      ],
      "execution_count": 9,
      "outputs": [
        {
          "output_type": "execute_result",
          "data": {
            "text/html": [
              "<div>\n",
              "<style scoped>\n",
              "    .dataframe tbody tr th:only-of-type {\n",
              "        vertical-align: middle;\n",
              "    }\n",
              "\n",
              "    .dataframe tbody tr th {\n",
              "        vertical-align: top;\n",
              "    }\n",
              "\n",
              "    .dataframe thead th {\n",
              "        text-align: right;\n",
              "    }\n",
              "</style>\n",
              "<table border=\"1\" class=\"dataframe\">\n",
              "  <thead>\n",
              "    <tr style=\"text-align: right;\">\n",
              "      <th></th>\n",
              "      <th>NU_INSCRICAO</th>\n",
              "      <th>SG_UF_RESIDENCIA</th>\n",
              "      <th>NU_NOTA_MT</th>\n",
              "      <th>NU_NOTA_REDACAO</th>\n",
              "      <th>Q001</th>\n",
              "      <th>Q002</th>\n",
              "    </tr>\n",
              "  </thead>\n",
              "  <tbody>\n",
              "    <tr>\n",
              "      <th>1</th>\n",
              "      <td>180007197856</td>\n",
              "      <td>MA</td>\n",
              "      <td>480.3</td>\n",
              "      <td>280.0</td>\n",
              "      <td>B</td>\n",
              "      <td>B</td>\n",
              "    </tr>\n",
              "    <tr>\n",
              "      <th>5</th>\n",
              "      <td>180007239581</td>\n",
              "      <td>PB</td>\n",
              "      <td>538.8</td>\n",
              "      <td>580.0</td>\n",
              "      <td>C</td>\n",
              "      <td>D</td>\n",
              "    </tr>\n",
              "    <tr>\n",
              "      <th>7</th>\n",
              "      <td>180008090447</td>\n",
              "      <td>PI</td>\n",
              "      <td>733.8</td>\n",
              "      <td>680.0</td>\n",
              "      <td>A</td>\n",
              "      <td>E</td>\n",
              "    </tr>\n",
              "    <tr>\n",
              "      <th>8</th>\n",
              "      <td>180008257068</td>\n",
              "      <td>CE</td>\n",
              "      <td>459.0</td>\n",
              "      <td>340.0</td>\n",
              "      <td>D</td>\n",
              "      <td>D</td>\n",
              "    </tr>\n",
              "    <tr>\n",
              "      <th>9</th>\n",
              "      <td>180008202044</td>\n",
              "      <td>MT</td>\n",
              "      <td>525.4</td>\n",
              "      <td>740.0</td>\n",
              "      <td>C</td>\n",
              "      <td>C</td>\n",
              "    </tr>\n",
              "  </tbody>\n",
              "</table>\n",
              "</div>"
            ],
            "text/plain": [
              "   NU_INSCRICAO SG_UF_RESIDENCIA  NU_NOTA_MT  NU_NOTA_REDACAO Q001 Q002\n",
              "1  180007197856               MA       480.3            280.0    B    B\n",
              "5  180007239581               PB       538.8            580.0    C    D\n",
              "7  180008090447               PI       733.8            680.0    A    E\n",
              "8  180008257068               CE       459.0            340.0    D    D\n",
              "9  180008202044               MT       525.4            740.0    C    C"
            ]
          },
          "metadata": {
            "tags": []
          },
          "execution_count": 9
        }
      ]
    },
    {
      "cell_type": "markdown",
      "metadata": {
        "id": "_wPDCfP7dw1q",
        "colab_type": "text"
      },
      "source": [
        "## Finalmente: o questionário de indicadores socieconômicos\n",
        "\n",
        "Começamos pelas duas primeiras questões:\n",
        "\n",
        "Q001 - Até que série seu pai, ou homem responsável por você, estudou?\n",
        "\n",
        "Q002 - Até que série sua mãe, ou a mulher responsável por você, estudou?"
      ]
    },
    {
      "cell_type": "markdown",
      "metadata": {
        "id": "Zp7yxPmdeNxa",
        "colab_type": "text"
      },
      "source": [
        "**Passo 1 - Definindo um dicionário:**\n",
        "\n",
        "Faremos isso para visualizar melhor o resultado"
      ]
    },
    {
      "cell_type": "code",
      "metadata": {
        "id": "97yjGUWrdrx7",
        "colab_type": "code",
        "colab": {}
      },
      "source": [
        "q001e002Dicionario = {'A':'Nunca estudou',\n",
        "                      'B':'Não completou a 4ª série/5º ano do Ensino Fundamental',\n",
        "                      'C':'Completou a 4ª série/5º ano, mas não completou a 8ª série/9º ano do Ensino Fundamental',\n",
        "                      'D':'Completou a 8ª série/9º ano do Ensino Fundamental, mas não completou o Ensino Médio',\n",
        "                      'E':'Completou o Ensino Médio, mas não completou a Faculdade',\n",
        "                      'F':'Completou a Faculdade, mas não completou a Pós-graduação',\n",
        "                      'G':'Completou a Pós-graduação',\n",
        "                      'H':'Não sei'}"
      ],
      "execution_count": 10,
      "outputs": []
    },
    {
      "cell_type": "markdown",
      "metadata": {
        "id": "VygGQIeCggUi",
        "colab_type": "text"
      },
      "source": [
        "**Passo 2 - Criar novas colunas no DataFrame**\n",
        "\n",
        "Inserindo coluna NO_Q001"
      ]
    },
    {
      "cell_type": "code",
      "metadata": {
        "id": "9MS3z1tegfCr",
        "colab_type": "code",
        "colab": {}
      },
      "source": [
        "microdadosEnem['NO_Q001'] = [q001e002Dicionario[resp] for resp in microdadosEnem.Q001]"
      ],
      "execution_count": 11,
      "outputs": []
    },
    {
      "cell_type": "code",
      "metadata": {
        "id": "7L_-nbfGhUda",
        "colab_type": "code",
        "colab": {
          "base_uri": "https://localhost:8080/",
          "height": 357
        },
        "outputId": "f827089d-d239-4373-98d3-063846ee00f6"
      },
      "source": [
        "microdadosEnem.head()"
      ],
      "execution_count": 12,
      "outputs": [
        {
          "output_type": "execute_result",
          "data": {
            "text/html": [
              "<div>\n",
              "<style scoped>\n",
              "    .dataframe tbody tr th:only-of-type {\n",
              "        vertical-align: middle;\n",
              "    }\n",
              "\n",
              "    .dataframe tbody tr th {\n",
              "        vertical-align: top;\n",
              "    }\n",
              "\n",
              "    .dataframe thead th {\n",
              "        text-align: right;\n",
              "    }\n",
              "</style>\n",
              "<table border=\"1\" class=\"dataframe\">\n",
              "  <thead>\n",
              "    <tr style=\"text-align: right;\">\n",
              "      <th></th>\n",
              "      <th>NU_INSCRICAO</th>\n",
              "      <th>SG_UF_RESIDENCIA</th>\n",
              "      <th>NU_NOTA_MT</th>\n",
              "      <th>NU_NOTA_REDACAO</th>\n",
              "      <th>Q001</th>\n",
              "      <th>Q002</th>\n",
              "      <th>NO_Q001</th>\n",
              "    </tr>\n",
              "  </thead>\n",
              "  <tbody>\n",
              "    <tr>\n",
              "      <th>1</th>\n",
              "      <td>180007197856</td>\n",
              "      <td>MA</td>\n",
              "      <td>480.3</td>\n",
              "      <td>280.0</td>\n",
              "      <td>B</td>\n",
              "      <td>B</td>\n",
              "      <td>Não completou a 4ª série/5º ano do Ensino Fund...</td>\n",
              "    </tr>\n",
              "    <tr>\n",
              "      <th>5</th>\n",
              "      <td>180007239581</td>\n",
              "      <td>PB</td>\n",
              "      <td>538.8</td>\n",
              "      <td>580.0</td>\n",
              "      <td>C</td>\n",
              "      <td>D</td>\n",
              "      <td>Completou a 4ª série/5º ano, mas não completou...</td>\n",
              "    </tr>\n",
              "    <tr>\n",
              "      <th>7</th>\n",
              "      <td>180008090447</td>\n",
              "      <td>PI</td>\n",
              "      <td>733.8</td>\n",
              "      <td>680.0</td>\n",
              "      <td>A</td>\n",
              "      <td>E</td>\n",
              "      <td>Nunca estudou</td>\n",
              "    </tr>\n",
              "    <tr>\n",
              "      <th>8</th>\n",
              "      <td>180008257068</td>\n",
              "      <td>CE</td>\n",
              "      <td>459.0</td>\n",
              "      <td>340.0</td>\n",
              "      <td>D</td>\n",
              "      <td>D</td>\n",
              "      <td>Completou a 8ª série/9º ano do Ensino Fundamen...</td>\n",
              "    </tr>\n",
              "    <tr>\n",
              "      <th>9</th>\n",
              "      <td>180008202044</td>\n",
              "      <td>MT</td>\n",
              "      <td>525.4</td>\n",
              "      <td>740.0</td>\n",
              "      <td>C</td>\n",
              "      <td>C</td>\n",
              "      <td>Completou a 4ª série/5º ano, mas não completou...</td>\n",
              "    </tr>\n",
              "  </tbody>\n",
              "</table>\n",
              "</div>"
            ],
            "text/plain": [
              "   NU_INSCRICAO  ...                                            NO_Q001\n",
              "1  180007197856  ...  Não completou a 4ª série/5º ano do Ensino Fund...\n",
              "5  180007239581  ...  Completou a 4ª série/5º ano, mas não completou...\n",
              "7  180008090447  ...                                      Nunca estudou\n",
              "8  180008257068  ...  Completou a 8ª série/9º ano do Ensino Fundamen...\n",
              "9  180008202044  ...  Completou a 4ª série/5º ano, mas não completou...\n",
              "\n",
              "[5 rows x 7 columns]"
            ]
          },
          "metadata": {
            "tags": []
          },
          "execution_count": 12
        }
      ]
    },
    {
      "cell_type": "markdown",
      "metadata": {
        "id": "Ls7X397UiBvJ",
        "colab_type": "text"
      },
      "source": [
        "Inserindo coluna NO_Q002"
      ]
    },
    {
      "cell_type": "code",
      "metadata": {
        "id": "m66Qofc_hxd5",
        "colab_type": "code",
        "colab": {}
      },
      "source": [
        "microdadosEnem['NO_Q002'] = [q001e002Dicionario[resp] for resp in microdadosEnem.Q002]"
      ],
      "execution_count": 13,
      "outputs": []
    },
    {
      "cell_type": "code",
      "metadata": {
        "id": "-ZizmDekiPzx",
        "colab_type": "code",
        "colab": {
          "base_uri": "https://localhost:8080/",
          "height": 598
        },
        "outputId": "202a2ec2-d430-4773-e63d-9fd5340d5080"
      },
      "source": [
        "microdadosEnem.head()"
      ],
      "execution_count": 14,
      "outputs": [
        {
          "output_type": "execute_result",
          "data": {
            "text/html": [
              "<div>\n",
              "<style scoped>\n",
              "    .dataframe tbody tr th:only-of-type {\n",
              "        vertical-align: middle;\n",
              "    }\n",
              "\n",
              "    .dataframe tbody tr th {\n",
              "        vertical-align: top;\n",
              "    }\n",
              "\n",
              "    .dataframe thead th {\n",
              "        text-align: right;\n",
              "    }\n",
              "</style>\n",
              "<table border=\"1\" class=\"dataframe\">\n",
              "  <thead>\n",
              "    <tr style=\"text-align: right;\">\n",
              "      <th></th>\n",
              "      <th>NU_INSCRICAO</th>\n",
              "      <th>SG_UF_RESIDENCIA</th>\n",
              "      <th>NU_NOTA_MT</th>\n",
              "      <th>NU_NOTA_REDACAO</th>\n",
              "      <th>Q001</th>\n",
              "      <th>Q002</th>\n",
              "      <th>NO_Q001</th>\n",
              "      <th>NO_Q002</th>\n",
              "    </tr>\n",
              "  </thead>\n",
              "  <tbody>\n",
              "    <tr>\n",
              "      <th>1</th>\n",
              "      <td>180007197856</td>\n",
              "      <td>MA</td>\n",
              "      <td>480.3</td>\n",
              "      <td>280.0</td>\n",
              "      <td>B</td>\n",
              "      <td>B</td>\n",
              "      <td>Não completou a 4ª série/5º ano do Ensino Fund...</td>\n",
              "      <td>Não completou a 4ª série/5º ano do Ensino Fund...</td>\n",
              "    </tr>\n",
              "    <tr>\n",
              "      <th>5</th>\n",
              "      <td>180007239581</td>\n",
              "      <td>PB</td>\n",
              "      <td>538.8</td>\n",
              "      <td>580.0</td>\n",
              "      <td>C</td>\n",
              "      <td>D</td>\n",
              "      <td>Completou a 4ª série/5º ano, mas não completou...</td>\n",
              "      <td>Completou a 8ª série/9º ano do Ensino Fundamen...</td>\n",
              "    </tr>\n",
              "    <tr>\n",
              "      <th>7</th>\n",
              "      <td>180008090447</td>\n",
              "      <td>PI</td>\n",
              "      <td>733.8</td>\n",
              "      <td>680.0</td>\n",
              "      <td>A</td>\n",
              "      <td>E</td>\n",
              "      <td>Nunca estudou</td>\n",
              "      <td>Completou o Ensino Médio, mas não completou a ...</td>\n",
              "    </tr>\n",
              "    <tr>\n",
              "      <th>8</th>\n",
              "      <td>180008257068</td>\n",
              "      <td>CE</td>\n",
              "      <td>459.0</td>\n",
              "      <td>340.0</td>\n",
              "      <td>D</td>\n",
              "      <td>D</td>\n",
              "      <td>Completou a 8ª série/9º ano do Ensino Fundamen...</td>\n",
              "      <td>Completou a 8ª série/9º ano do Ensino Fundamen...</td>\n",
              "    </tr>\n",
              "    <tr>\n",
              "      <th>9</th>\n",
              "      <td>180008202044</td>\n",
              "      <td>MT</td>\n",
              "      <td>525.4</td>\n",
              "      <td>740.0</td>\n",
              "      <td>C</td>\n",
              "      <td>C</td>\n",
              "      <td>Completou a 4ª série/5º ano, mas não completou...</td>\n",
              "      <td>Completou a 4ª série/5º ano, mas não completou...</td>\n",
              "    </tr>\n",
              "  </tbody>\n",
              "</table>\n",
              "</div>"
            ],
            "text/plain": [
              "   NU_INSCRICAO  ...                                            NO_Q002\n",
              "1  180007197856  ...  Não completou a 4ª série/5º ano do Ensino Fund...\n",
              "5  180007239581  ...  Completou a 8ª série/9º ano do Ensino Fundamen...\n",
              "7  180008090447  ...  Completou o Ensino Médio, mas não completou a ...\n",
              "8  180008257068  ...  Completou a 8ª série/9º ano do Ensino Fundamen...\n",
              "9  180008202044  ...  Completou a 4ª série/5º ano, mas não completou...\n",
              "\n",
              "[5 rows x 8 columns]"
            ]
          },
          "metadata": {
            "tags": []
          },
          "execution_count": 14
        }
      ]
    },
    {
      "cell_type": "markdown",
      "metadata": {
        "id": "o6bRmririiUY",
        "colab_type": "text"
      },
      "source": [
        "**Passo 3 - Comparando distribuição do nível de escolaridade Pai x Mãe no conjunto de dados**\n",
        "\n",
        "Utilizando os métodos do DataFrame filter(), groupby(), count(), sort_values()"
      ]
    },
    {
      "cell_type": "markdown",
      "metadata": {
        "id": "WWAYgcbti1ax",
        "colab_type": "text"
      },
      "source": [
        "1 - Distribuição dos candidatos do ENEM 2018 por escolaridade do Pai"
      ]
    },
    {
      "cell_type": "code",
      "metadata": {
        "id": "X6zAj63CiRth",
        "colab_type": "code",
        "colab": {
          "base_uri": "https://localhost:8080/",
          "height": 345
        },
        "outputId": "cfe6a5d5-6f73-4e72-dbba-ee1a7651f4d6"
      },
      "source": [
        "microdadosEnem.filter(items=['NU_INSCRICAO', 'NO_Q001']).groupby('NO_Q001').count().sort_values(by='NU_INSCRICAO', ascending=False)"
      ],
      "execution_count": 15,
      "outputs": [
        {
          "output_type": "execute_result",
          "data": {
            "text/html": [
              "<div>\n",
              "<style scoped>\n",
              "    .dataframe tbody tr th:only-of-type {\n",
              "        vertical-align: middle;\n",
              "    }\n",
              "\n",
              "    .dataframe tbody tr th {\n",
              "        vertical-align: top;\n",
              "    }\n",
              "\n",
              "    .dataframe thead th {\n",
              "        text-align: right;\n",
              "    }\n",
              "</style>\n",
              "<table border=\"1\" class=\"dataframe\">\n",
              "  <thead>\n",
              "    <tr style=\"text-align: right;\">\n",
              "      <th></th>\n",
              "      <th>NU_INSCRICAO</th>\n",
              "    </tr>\n",
              "    <tr>\n",
              "      <th>NO_Q001</th>\n",
              "      <th></th>\n",
              "    </tr>\n",
              "  </thead>\n",
              "  <tbody>\n",
              "    <tr>\n",
              "      <th>Completou o Ensino Médio, mas não completou a Faculdade</th>\n",
              "      <td>1043472</td>\n",
              "    </tr>\n",
              "    <tr>\n",
              "      <th>Não completou a 4ª série/5º ano do Ensino Fundamental</th>\n",
              "      <td>813670</td>\n",
              "    </tr>\n",
              "    <tr>\n",
              "      <th>Completou a 4ª série/5º ano, mas não completou a 8ª série/9º ano do Ensino Fundamental</th>\n",
              "      <td>549969</td>\n",
              "    </tr>\n",
              "    <tr>\n",
              "      <th>Completou a 8ª série/9º ano do Ensino Fundamental, mas não completou o Ensino Médio</th>\n",
              "      <td>460454</td>\n",
              "    </tr>\n",
              "    <tr>\n",
              "      <th>Não sei</th>\n",
              "      <td>325653</td>\n",
              "    </tr>\n",
              "    <tr>\n",
              "      <th>Completou a Faculdade, mas não completou a Pós-graduação</th>\n",
              "      <td>311918</td>\n",
              "    </tr>\n",
              "    <tr>\n",
              "      <th>Nunca estudou</th>\n",
              "      <td>200902</td>\n",
              "    </tr>\n",
              "    <tr>\n",
              "      <th>Completou a Pós-graduação</th>\n",
              "      <td>187705</td>\n",
              "    </tr>\n",
              "  </tbody>\n",
              "</table>\n",
              "</div>"
            ],
            "text/plain": [
              "                                                    NU_INSCRICAO\n",
              "NO_Q001                                                         \n",
              "Completou o Ensino Médio, mas não completou a F...       1043472\n",
              "Não completou a 4ª série/5º ano do Ensino Funda...        813670\n",
              "Completou a 4ª série/5º ano, mas não completou ...        549969\n",
              "Completou a 8ª série/9º ano do Ensino Fundament...        460454\n",
              "Não sei                                                   325653\n",
              "Completou a Faculdade, mas não completou a Pós-...        311918\n",
              "Nunca estudou                                             200902\n",
              "Completou a Pós-graduação                                 187705"
            ]
          },
          "metadata": {
            "tags": []
          },
          "execution_count": 15
        }
      ]
    },
    {
      "cell_type": "markdown",
      "metadata": {
        "id": "CXpxywdTjxxJ",
        "colab_type": "text"
      },
      "source": [
        "2 - Distribução dos candidatos do ENEM 2018 por escolaridade da Mãe"
      ]
    },
    {
      "cell_type": "code",
      "metadata": {
        "id": "KT2GkveijVb2",
        "colab_type": "code",
        "colab": {
          "base_uri": "https://localhost:8080/",
          "height": 345
        },
        "outputId": "e917772f-4746-45c0-f00d-33fdab3f5d06"
      },
      "source": [
        "microdadosEnem.filter(items=['NU_INSCRICAO', 'NO_Q002']).groupby('NO_Q002').count().sort_values(by='NU_INSCRICAO', ascending=False)"
      ],
      "execution_count": 16,
      "outputs": [
        {
          "output_type": "execute_result",
          "data": {
            "text/html": [
              "<div>\n",
              "<style scoped>\n",
              "    .dataframe tbody tr th:only-of-type {\n",
              "        vertical-align: middle;\n",
              "    }\n",
              "\n",
              "    .dataframe tbody tr th {\n",
              "        vertical-align: top;\n",
              "    }\n",
              "\n",
              "    .dataframe thead th {\n",
              "        text-align: right;\n",
              "    }\n",
              "</style>\n",
              "<table border=\"1\" class=\"dataframe\">\n",
              "  <thead>\n",
              "    <tr style=\"text-align: right;\">\n",
              "      <th></th>\n",
              "      <th>NU_INSCRICAO</th>\n",
              "    </tr>\n",
              "    <tr>\n",
              "      <th>NO_Q002</th>\n",
              "      <th></th>\n",
              "    </tr>\n",
              "  </thead>\n",
              "  <tbody>\n",
              "    <tr>\n",
              "      <th>Completou o Ensino Médio, mas não completou a Faculdade</th>\n",
              "      <td>1275076</td>\n",
              "    </tr>\n",
              "    <tr>\n",
              "      <th>Não completou a 4ª série/5º ano do Ensino Fundamental</th>\n",
              "      <td>606702</td>\n",
              "    </tr>\n",
              "    <tr>\n",
              "      <th>Completou a 4ª série/5º ano, mas não completou a 8ª série/9º ano do Ensino Fundamental</th>\n",
              "      <td>515982</td>\n",
              "    </tr>\n",
              "    <tr>\n",
              "      <th>Completou a 8ª série/9º ano do Ensino Fundamental, mas não completou o Ensino Médio</th>\n",
              "      <td>509545</td>\n",
              "    </tr>\n",
              "    <tr>\n",
              "      <th>Completou a Faculdade, mas não completou a Pós-graduação</th>\n",
              "      <td>417225</td>\n",
              "    </tr>\n",
              "    <tr>\n",
              "      <th>Completou a Pós-graduação</th>\n",
              "      <td>322696</td>\n",
              "    </tr>\n",
              "    <tr>\n",
              "      <th>Nunca estudou</th>\n",
              "      <td>136414</td>\n",
              "    </tr>\n",
              "    <tr>\n",
              "      <th>Não sei</th>\n",
              "      <td>110103</td>\n",
              "    </tr>\n",
              "  </tbody>\n",
              "</table>\n",
              "</div>"
            ],
            "text/plain": [
              "                                                    NU_INSCRICAO\n",
              "NO_Q002                                                         \n",
              "Completou o Ensino Médio, mas não completou a F...       1275076\n",
              "Não completou a 4ª série/5º ano do Ensino Funda...        606702\n",
              "Completou a 4ª série/5º ano, mas não completou ...        515982\n",
              "Completou a 8ª série/9º ano do Ensino Fundament...        509545\n",
              "Completou a Faculdade, mas não completou a Pós-...        417225\n",
              "Completou a Pós-graduação                                 322696\n",
              "Nunca estudou                                             136414\n",
              "Não sei                                                   110103"
            ]
          },
          "metadata": {
            "tags": []
          },
          "execution_count": 16
        }
      ]
    },
    {
      "cell_type": "markdown",
      "metadata": {
        "id": "SWcPwy3Ak6P7",
        "colab_type": "text"
      },
      "source": [
        "**Passo 4 - Olhando o desempenho em matemática segundo a escolaridade Pai x Mãe**"
      ]
    },
    {
      "cell_type": "markdown",
      "metadata": {
        "id": "qvXgJ2zdlCwy",
        "colab_type": "text"
      },
      "source": [
        "1 - por escolaridade do Pai"
      ]
    },
    {
      "cell_type": "code",
      "metadata": {
        "id": "67nA_wZKkASh",
        "colab_type": "code",
        "colab": {
          "base_uri": "https://localhost:8080/",
          "height": 328
        },
        "outputId": "a4a6d8f4-c5dc-42d4-e116-e228699e8190"
      },
      "source": [
        "microdadosEnem.filter(items=['NU_NOTA_MT', 'NO_Q001']).groupby('NO_Q001').mean().sort_values(by='NU_NOTA_MT', ascending=False)"
      ],
      "execution_count": 17,
      "outputs": [
        {
          "output_type": "execute_result",
          "data": {
            "text/html": [
              "<div>\n",
              "<style scoped>\n",
              "    .dataframe tbody tr th:only-of-type {\n",
              "        vertical-align: middle;\n",
              "    }\n",
              "\n",
              "    .dataframe tbody tr th {\n",
              "        vertical-align: top;\n",
              "    }\n",
              "\n",
              "    .dataframe thead th {\n",
              "        text-align: right;\n",
              "    }\n",
              "</style>\n",
              "<table border=\"1\" class=\"dataframe\">\n",
              "  <thead>\n",
              "    <tr style=\"text-align: right;\">\n",
              "      <th></th>\n",
              "      <th>NU_NOTA_MT</th>\n",
              "    </tr>\n",
              "    <tr>\n",
              "      <th>NO_Q001</th>\n",
              "      <th></th>\n",
              "    </tr>\n",
              "  </thead>\n",
              "  <tbody>\n",
              "    <tr>\n",
              "      <th>Completou a Pós-graduação</th>\n",
              "      <td>628.857128</td>\n",
              "    </tr>\n",
              "    <tr>\n",
              "      <th>Completou a Faculdade, mas não completou a Pós-graduação</th>\n",
              "      <td>606.911985</td>\n",
              "    </tr>\n",
              "    <tr>\n",
              "      <th>Completou o Ensino Médio, mas não completou a Faculdade</th>\n",
              "      <td>550.922641</td>\n",
              "    </tr>\n",
              "    <tr>\n",
              "      <th>Completou a 8ª série/9º ano do Ensino Fundamental, mas não completou o Ensino Médio</th>\n",
              "      <td>530.540300</td>\n",
              "    </tr>\n",
              "    <tr>\n",
              "      <th>Completou a 4ª série/5º ano, mas não completou a 8ª série/9º ano do Ensino Fundamental</th>\n",
              "      <td>519.450349</td>\n",
              "    </tr>\n",
              "    <tr>\n",
              "      <th>Não sei</th>\n",
              "      <td>512.678252</td>\n",
              "    </tr>\n",
              "    <tr>\n",
              "      <th>Não completou a 4ª série/5º ano do Ensino Fundamental</th>\n",
              "      <td>502.412921</td>\n",
              "    </tr>\n",
              "    <tr>\n",
              "      <th>Nunca estudou</th>\n",
              "      <td>483.412209</td>\n",
              "    </tr>\n",
              "  </tbody>\n",
              "</table>\n",
              "</div>"
            ],
            "text/plain": [
              "                                                    NU_NOTA_MT\n",
              "NO_Q001                                                       \n",
              "Completou a Pós-graduação                           628.857128\n",
              "Completou a Faculdade, mas não completou a Pós-...  606.911985\n",
              "Completou o Ensino Médio, mas não completou a F...  550.922641\n",
              "Completou a 8ª série/9º ano do Ensino Fundament...  530.540300\n",
              "Completou a 4ª série/5º ano, mas não completou ...  519.450349\n",
              "Não sei                                             512.678252\n",
              "Não completou a 4ª série/5º ano do Ensino Funda...  502.412921\n",
              "Nunca estudou                                       483.412209"
            ]
          },
          "metadata": {
            "tags": []
          },
          "execution_count": 17
        }
      ]
    },
    {
      "cell_type": "markdown",
      "metadata": {
        "id": "VDA1quUTl8O7",
        "colab_type": "text"
      },
      "source": [
        "2 - por escolaridade da Mãe"
      ]
    },
    {
      "cell_type": "code",
      "metadata": {
        "id": "V88Cnz1Sl_w-",
        "colab_type": "code",
        "colab": {
          "base_uri": "https://localhost:8080/",
          "height": 328
        },
        "outputId": "c1762b76-e117-424d-b11d-9665d13534af"
      },
      "source": [
        "microdadosEnem.filter(items=['NU_NOTA_MT', 'NO_Q002']).groupby('NO_Q002').mean().sort_values(by='NU_NOTA_MT', ascending=False)"
      ],
      "execution_count": 18,
      "outputs": [
        {
          "output_type": "execute_result",
          "data": {
            "text/html": [
              "<div>\n",
              "<style scoped>\n",
              "    .dataframe tbody tr th:only-of-type {\n",
              "        vertical-align: middle;\n",
              "    }\n",
              "\n",
              "    .dataframe tbody tr th {\n",
              "        vertical-align: top;\n",
              "    }\n",
              "\n",
              "    .dataframe thead th {\n",
              "        text-align: right;\n",
              "    }\n",
              "</style>\n",
              "<table border=\"1\" class=\"dataframe\">\n",
              "  <thead>\n",
              "    <tr style=\"text-align: right;\">\n",
              "      <th></th>\n",
              "      <th>NU_NOTA_MT</th>\n",
              "    </tr>\n",
              "    <tr>\n",
              "      <th>NO_Q002</th>\n",
              "      <th></th>\n",
              "    </tr>\n",
              "  </thead>\n",
              "  <tbody>\n",
              "    <tr>\n",
              "      <th>Completou a Pós-graduação</th>\n",
              "      <td>604.646114</td>\n",
              "    </tr>\n",
              "    <tr>\n",
              "      <th>Completou a Faculdade, mas não completou a Pós-graduação</th>\n",
              "      <td>591.438424</td>\n",
              "    </tr>\n",
              "    <tr>\n",
              "      <th>Completou o Ensino Médio, mas não completou a Faculdade</th>\n",
              "      <td>541.991564</td>\n",
              "    </tr>\n",
              "    <tr>\n",
              "      <th>Completou a 8ª série/9º ano do Ensino Fundamental, mas não completou o Ensino Médio</th>\n",
              "      <td>521.292757</td>\n",
              "    </tr>\n",
              "    <tr>\n",
              "      <th>Completou a 4ª série/5º ano, mas não completou a 8ª série/9º ano do Ensino Fundamental</th>\n",
              "      <td>512.046346</td>\n",
              "    </tr>\n",
              "    <tr>\n",
              "      <th>Não sei</th>\n",
              "      <td>504.112213</td>\n",
              "    </tr>\n",
              "    <tr>\n",
              "      <th>Não completou a 4ª série/5º ano do Ensino Fundamental</th>\n",
              "      <td>497.003174</td>\n",
              "    </tr>\n",
              "    <tr>\n",
              "      <th>Nunca estudou</th>\n",
              "      <td>478.218055</td>\n",
              "    </tr>\n",
              "  </tbody>\n",
              "</table>\n",
              "</div>"
            ],
            "text/plain": [
              "                                                    NU_NOTA_MT\n",
              "NO_Q002                                                       \n",
              "Completou a Pós-graduação                           604.646114\n",
              "Completou a Faculdade, mas não completou a Pós-...  591.438424\n",
              "Completou o Ensino Médio, mas não completou a F...  541.991564\n",
              "Completou a 8ª série/9º ano do Ensino Fundament...  521.292757\n",
              "Completou a 4ª série/5º ano, mas não completou ...  512.046346\n",
              "Não sei                                             504.112213\n",
              "Não completou a 4ª série/5º ano do Ensino Funda...  497.003174\n",
              "Nunca estudou                                       478.218055"
            ]
          },
          "metadata": {
            "tags": []
          },
          "execution_count": 18
        }
      ]
    },
    {
      "cell_type": "markdown",
      "metadata": {
        "id": "aNGN5oaXmXpI",
        "colab_type": "text"
      },
      "source": [
        "**Passo 5 - Olhando o desempenho em redação segundo a escolaridade Pai x Mãe**"
      ]
    },
    {
      "cell_type": "markdown",
      "metadata": {
        "id": "kW3kyg4amelH",
        "colab_type": "text"
      },
      "source": [
        "1 - por escolaridade do Pai"
      ]
    },
    {
      "cell_type": "code",
      "metadata": {
        "id": "q2WV0akumeJn",
        "colab_type": "code",
        "colab": {
          "base_uri": "https://localhost:8080/",
          "height": 362
        },
        "outputId": "528fbece-5e0c-4e2a-b314-11403526a903"
      },
      "source": [
        "microdadosEnem.filter(items=['NU_NOTA_REDACAO', 'NO_Q001']).groupby('NO_Q001').mean().sort_values(by='NU_NOTA_REDACAO', ascending=False)"
      ],
      "execution_count": 19,
      "outputs": [
        {
          "output_type": "execute_result",
          "data": {
            "text/html": [
              "<div>\n",
              "<style scoped>\n",
              "    .dataframe tbody tr th:only-of-type {\n",
              "        vertical-align: middle;\n",
              "    }\n",
              "\n",
              "    .dataframe tbody tr th {\n",
              "        vertical-align: top;\n",
              "    }\n",
              "\n",
              "    .dataframe thead th {\n",
              "        text-align: right;\n",
              "    }\n",
              "</style>\n",
              "<table border=\"1\" class=\"dataframe\">\n",
              "  <thead>\n",
              "    <tr style=\"text-align: right;\">\n",
              "      <th></th>\n",
              "      <th>NU_NOTA_REDACAO</th>\n",
              "    </tr>\n",
              "    <tr>\n",
              "      <th>NO_Q001</th>\n",
              "      <th></th>\n",
              "    </tr>\n",
              "  </thead>\n",
              "  <tbody>\n",
              "    <tr>\n",
              "      <th>Completou a Pós-graduação</th>\n",
              "      <td>652.213740</td>\n",
              "    </tr>\n",
              "    <tr>\n",
              "      <th>Completou a Faculdade, mas não completou a Pós-graduação</th>\n",
              "      <td>622.431152</td>\n",
              "    </tr>\n",
              "    <tr>\n",
              "      <th>Completou o Ensino Médio, mas não completou a Faculdade</th>\n",
              "      <td>544.272256</td>\n",
              "    </tr>\n",
              "    <tr>\n",
              "      <th>Completou a 8ª série/9º ano do Ensino Fundamental, mas não completou o Ensino Médio</th>\n",
              "      <td>511.711832</td>\n",
              "    </tr>\n",
              "    <tr>\n",
              "      <th>Completou a 4ª série/5º ano, mas não completou a 8ª série/9º ano do Ensino Fundamental</th>\n",
              "      <td>492.834723</td>\n",
              "    </tr>\n",
              "    <tr>\n",
              "      <th>Não sei</th>\n",
              "      <td>474.284161</td>\n",
              "    </tr>\n",
              "    <tr>\n",
              "      <th>Não completou a 4ª série/5º ano do Ensino Fundamental</th>\n",
              "      <td>464.490076</td>\n",
              "    </tr>\n",
              "    <tr>\n",
              "      <th>Nunca estudou</th>\n",
              "      <td>427.263044</td>\n",
              "    </tr>\n",
              "  </tbody>\n",
              "</table>\n",
              "</div>"
            ],
            "text/plain": [
              "                                                    NU_NOTA_REDACAO\n",
              "NO_Q001                                                            \n",
              "Completou a Pós-graduação                                652.213740\n",
              "Completou a Faculdade, mas não completou a Pós-...       622.431152\n",
              "Completou o Ensino Médio, mas não completou a F...       544.272256\n",
              "Completou a 8ª série/9º ano do Ensino Fundament...       511.711832\n",
              "Completou a 4ª série/5º ano, mas não completou ...       492.834723\n",
              "Não sei                                                  474.284161\n",
              "Não completou a 4ª série/5º ano do Ensino Funda...       464.490076\n",
              "Nunca estudou                                            427.263044"
            ]
          },
          "metadata": {
            "tags": []
          },
          "execution_count": 19
        }
      ]
    },
    {
      "cell_type": "markdown",
      "metadata": {
        "id": "LuKuPAfJmsti",
        "colab_type": "text"
      },
      "source": [
        "2 - por escolaridade da Mãe"
      ]
    },
    {
      "cell_type": "code",
      "metadata": {
        "id": "O3gdkAo-mqTo",
        "colab_type": "code",
        "colab": {
          "base_uri": "https://localhost:8080/",
          "height": 362
        },
        "outputId": "783e85a0-5ce6-4fa8-e9a0-cccf9faab942"
      },
      "source": [
        "microdadosEnem.filter(items=['NU_NOTA_REDACAO', 'NO_Q002']).groupby('NO_Q002').mean().sort_values(by='NU_NOTA_REDACAO', ascending=False)"
      ],
      "execution_count": 20,
      "outputs": [
        {
          "output_type": "execute_result",
          "data": {
            "text/html": [
              "<div>\n",
              "<style scoped>\n",
              "    .dataframe tbody tr th:only-of-type {\n",
              "        vertical-align: middle;\n",
              "    }\n",
              "\n",
              "    .dataframe tbody tr th {\n",
              "        vertical-align: top;\n",
              "    }\n",
              "\n",
              "    .dataframe thead th {\n",
              "        text-align: right;\n",
              "    }\n",
              "</style>\n",
              "<table border=\"1\" class=\"dataframe\">\n",
              "  <thead>\n",
              "    <tr style=\"text-align: right;\">\n",
              "      <th></th>\n",
              "      <th>NU_NOTA_REDACAO</th>\n",
              "    </tr>\n",
              "    <tr>\n",
              "      <th>NO_Q002</th>\n",
              "      <th></th>\n",
              "    </tr>\n",
              "  </thead>\n",
              "  <tbody>\n",
              "    <tr>\n",
              "      <th>Completou a Pós-graduação</th>\n",
              "      <td>622.780760</td>\n",
              "    </tr>\n",
              "    <tr>\n",
              "      <th>Completou a Faculdade, mas não completou a Pós-graduação</th>\n",
              "      <td>601.241249</td>\n",
              "    </tr>\n",
              "    <tr>\n",
              "      <th>Completou o Ensino Médio, mas não completou a Faculdade</th>\n",
              "      <td>530.016015</td>\n",
              "    </tr>\n",
              "    <tr>\n",
              "      <th>Completou a 8ª série/9º ano do Ensino Fundamental, mas não completou o Ensino Médio</th>\n",
              "      <td>495.963850</td>\n",
              "    </tr>\n",
              "    <tr>\n",
              "      <th>Completou a 4ª série/5º ano, mas não completou a 8ª série/9º ano do Ensino Fundamental</th>\n",
              "      <td>479.675260</td>\n",
              "    </tr>\n",
              "    <tr>\n",
              "      <th>Não completou a 4ª série/5º ano do Ensino Fundamental</th>\n",
              "      <td>454.591612</td>\n",
              "    </tr>\n",
              "    <tr>\n",
              "      <th>Não sei</th>\n",
              "      <td>447.204163</td>\n",
              "    </tr>\n",
              "    <tr>\n",
              "      <th>Nunca estudou</th>\n",
              "      <td>414.232410</td>\n",
              "    </tr>\n",
              "  </tbody>\n",
              "</table>\n",
              "</div>"
            ],
            "text/plain": [
              "                                                    NU_NOTA_REDACAO\n",
              "NO_Q002                                                            \n",
              "Completou a Pós-graduação                                622.780760\n",
              "Completou a Faculdade, mas não completou a Pós-...       601.241249\n",
              "Completou o Ensino Médio, mas não completou a F...       530.016015\n",
              "Completou a 8ª série/9º ano do Ensino Fundament...       495.963850\n",
              "Completou a 4ª série/5º ano, mas não completou ...       479.675260\n",
              "Não completou a 4ª série/5º ano do Ensino Funda...       454.591612\n",
              "Não sei                                                  447.204163\n",
              "Nunca estudou                                            414.232410"
            ]
          },
          "metadata": {
            "tags": []
          },
          "execution_count": 20
        }
      ]
    },
    {
      "cell_type": "markdown",
      "metadata": {
        "id": "XndfSCu7nNiH",
        "colab_type": "text"
      },
      "source": [
        "*--------------------------*\n",
        "\n",
        "**ver se a linearidade das informações**"
      ]
    },
    {
      "cell_type": "code",
      "metadata": {
        "id": "95_72A8znQpH",
        "colab_type": "code",
        "colab": {}
      },
      "source": [
        "a = microdadosEnem.filter(items=['NU_NOTA_REDACAO', 'NO_Q002']).groupby('NO_Q002').mean().sort_values(by='NU_NOTA_REDACAO', ascending=False)"
      ],
      "execution_count": 21,
      "outputs": []
    },
    {
      "cell_type": "code",
      "metadata": {
        "id": "cTzjk2MhnY54",
        "colab_type": "code",
        "colab": {
          "base_uri": "https://localhost:8080/",
          "height": 298
        },
        "outputId": "1ed916c3-9cc3-4ba5-9147-8e3d5b903dca"
      },
      "source": [
        "a.plot()"
      ],
      "execution_count": 22,
      "outputs": [
        {
          "output_type": "execute_result",
          "data": {
            "text/plain": [
              "<matplotlib.axes._subplots.AxesSubplot at 0x7fdb54a82b70>"
            ]
          },
          "metadata": {
            "tags": []
          },
          "execution_count": 22
        },
        {
          "output_type": "display_data",
          "data": {
            "image/png": "[encoded data removed]",
            "text/plain": [
              "<Figure size 432x288 with 1 Axes>"
            ]
          },
          "metadata": {
            "tags": [],
            "needs_background": "light"
          }
        }
      ]
    },
    {
      "cell_type": "code",
      "metadata": {
        "id": "m5IbQwVCna8v",
        "colab_type": "code",
        "colab": {
          "base_uri": "https://localhost:8080/",
          "height": 546
        },
        "outputId": "97788696-ab0e-4c49-e1bb-b37adcb2e33f"
      },
      "source": [
        "microdadosEnem.filter(items=['NU_NOTA_REDACAO', 'NO_Q001']).groupby('NO_Q001').describe()"
      ],
      "execution_count": 23,
      "outputs": [
        {
          "output_type": "execute_result",
          "data": {
            "text/html": [
              "<div>\n",
              "<style scoped>\n",
              "    .dataframe tbody tr th:only-of-type {\n",
              "        vertical-align: middle;\n",
              "    }\n",
              "\n",
              "    .dataframe tbody tr th {\n",
              "        vertical-align: top;\n",
              "    }\n",
              "\n",
              "    .dataframe thead tr th {\n",
              "        text-align: left;\n",
              "    }\n",
              "\n",
              "    .dataframe thead tr:last-of-type th {\n",
              "        text-align: right;\n",
              "    }\n",
              "</style>\n",
              "<table border=\"1\" class=\"dataframe\">\n",
              "  <thead>\n",
              "    <tr>\n",
              "      <th></th>\n",
              "      <th colspan=\"8\" halign=\"left\">NU_NOTA_REDACAO</th>\n",
              "    </tr>\n",
              "    <tr>\n",
              "      <th></th>\n",
              "      <th>count</th>\n",
              "      <th>mean</th>\n",
              "      <th>std</th>\n",
              "      <th>min</th>\n",
              "      <th>25%</th>\n",
              "      <th>50%</th>\n",
              "      <th>75%</th>\n",
              "      <th>max</th>\n",
              "    </tr>\n",
              "    <tr>\n",
              "      <th>NO_Q001</th>\n",
              "      <th></th>\n",
              "      <th></th>\n",
              "      <th></th>\n",
              "      <th></th>\n",
              "      <th></th>\n",
              "      <th></th>\n",
              "      <th></th>\n",
              "      <th></th>\n",
              "    </tr>\n",
              "  </thead>\n",
              "  <tbody>\n",
              "    <tr>\n",
              "      <th>Completou a 4ª série/5º ano, mas não completou a 8ª série/9º ano do Ensino Fundamental</th>\n",
              "      <td>549969.0</td>\n",
              "      <td>492.834723</td>\n",
              "      <td>173.586452</td>\n",
              "      <td>0.0</td>\n",
              "      <td>360.0</td>\n",
              "      <td>500.0</td>\n",
              "      <td>600.0</td>\n",
              "      <td>1000.0</td>\n",
              "    </tr>\n",
              "    <tr>\n",
              "      <th>Completou a 8ª série/9º ano do Ensino Fundamental, mas não completou o Ensino Médio</th>\n",
              "      <td>460454.0</td>\n",
              "      <td>511.711832</td>\n",
              "      <td>176.644144</td>\n",
              "      <td>0.0</td>\n",
              "      <td>360.0</td>\n",
              "      <td>520.0</td>\n",
              "      <td>620.0</td>\n",
              "      <td>1000.0</td>\n",
              "    </tr>\n",
              "    <tr>\n",
              "      <th>Completou a Faculdade, mas não completou a Pós-graduação</th>\n",
              "      <td>311918.0</td>\n",
              "      <td>622.431152</td>\n",
              "      <td>183.709651</td>\n",
              "      <td>0.0</td>\n",
              "      <td>520.0</td>\n",
              "      <td>620.0</td>\n",
              "      <td>760.0</td>\n",
              "      <td>1000.0</td>\n",
              "    </tr>\n",
              "    <tr>\n",
              "      <th>Completou a Pós-graduação</th>\n",
              "      <td>187705.0</td>\n",
              "      <td>652.213740</td>\n",
              "      <td>183.978167</td>\n",
              "      <td>0.0</td>\n",
              "      <td>540.0</td>\n",
              "      <td>660.0</td>\n",
              "      <td>800.0</td>\n",
              "      <td>1000.0</td>\n",
              "    </tr>\n",
              "    <tr>\n",
              "      <th>Completou o Ensino Médio, mas não completou a Faculdade</th>\n",
              "      <td>1043472.0</td>\n",
              "      <td>544.272256</td>\n",
              "      <td>180.805262</td>\n",
              "      <td>0.0</td>\n",
              "      <td>400.0</td>\n",
              "      <td>560.0</td>\n",
              "      <td>660.0</td>\n",
              "      <td>1000.0</td>\n",
              "    </tr>\n",
              "    <tr>\n",
              "      <th>Nunca estudou</th>\n",
              "      <td>200902.0</td>\n",
              "      <td>427.263044</td>\n",
              "      <td>166.188760</td>\n",
              "      <td>0.0</td>\n",
              "      <td>320.0</td>\n",
              "      <td>400.0</td>\n",
              "      <td>540.0</td>\n",
              "      <td>1000.0</td>\n",
              "    </tr>\n",
              "    <tr>\n",
              "      <th>Não completou a 4ª série/5º ano do Ensino Fundamental</th>\n",
              "      <td>813670.0</td>\n",
              "      <td>464.490076</td>\n",
              "      <td>165.704546</td>\n",
              "      <td>0.0</td>\n",
              "      <td>340.0</td>\n",
              "      <td>460.0</td>\n",
              "      <td>580.0</td>\n",
              "      <td>1000.0</td>\n",
              "    </tr>\n",
              "    <tr>\n",
              "      <th>Não sei</th>\n",
              "      <td>325653.0</td>\n",
              "      <td>474.284161</td>\n",
              "      <td>175.884431</td>\n",
              "      <td>0.0</td>\n",
              "      <td>340.0</td>\n",
              "      <td>480.0</td>\n",
              "      <td>580.0</td>\n",
              "      <td>980.0</td>\n",
              "    </tr>\n",
              "  </tbody>\n",
              "</table>\n",
              "</div>"
            ],
            "text/plain": [
              "                                                   NU_NOTA_REDACAO  ...        \n",
              "                                                             count  ...     max\n",
              "NO_Q001                                                             ...        \n",
              "Completou a 4ª série/5º ano, mas não completou ...        549969.0  ...  1000.0\n",
              "Completou a 8ª série/9º ano do Ensino Fundament...        460454.0  ...  1000.0\n",
              "Completou a Faculdade, mas não completou a Pós-...        311918.0  ...  1000.0\n",
              "Completou a Pós-graduação                                 187705.0  ...  1000.0\n",
              "Completou o Ensino Médio, mas não completou a F...       1043472.0  ...  1000.0\n",
              "Nunca estudou                                             200902.0  ...  1000.0\n",
              "Não completou a 4ª série/5º ano do Ensino Funda...        813670.0  ...  1000.0\n",
              "Não sei                                                   325653.0  ...   980.0\n",
              "\n",
              "[8 rows x 8 columns]"
            ]
          },
          "metadata": {
            "tags": []
          },
          "execution_count": 23
        }
      ]
    },
    {
      "cell_type": "markdown",
      "metadata": {
        "id": "qHyL3FurlA6G",
        "colab_type": "text"
      },
      "source": [
        "utilizando o método WHERE do pandas"
      ]
    },
    {
      "cell_type": "code",
      "metadata": {
        "id": "T9iBuAZQnvKZ",
        "colab_type": "code",
        "colab": {
          "base_uri": "https://localhost:8080/",
          "height": 362
        },
        "outputId": "95ae8eb1-bff3-45d5-9a91-97ed5eb39871"
      },
      "source": [
        "microdadosEnem.filter(items=['NU_NOTA_REDACAO', 'NO_Q002'])\\\n",
        ".where(microdadosEnem.SG_UF_RESIDENCIA == 'RJ')\\\n",
        ".groupby('NO_Q002').mean().sort_values(by='NU_NOTA_REDACAO', ascending = False)"
      ],
      "execution_count": 24,
      "outputs": [
        {
          "output_type": "execute_result",
          "data": {
            "text/html": [
              "<div>\n",
              "<style scoped>\n",
              "    .dataframe tbody tr th:only-of-type {\n",
              "        vertical-align: middle;\n",
              "    }\n",
              "\n",
              "    .dataframe tbody tr th {\n",
              "        vertical-align: top;\n",
              "    }\n",
              "\n",
              "    .dataframe thead th {\n",
              "        text-align: right;\n",
              "    }\n",
              "</style>\n",
              "<table border=\"1\" class=\"dataframe\">\n",
              "  <thead>\n",
              "    <tr style=\"text-align: right;\">\n",
              "      <th></th>\n",
              "      <th>NU_NOTA_REDACAO</th>\n",
              "    </tr>\n",
              "    <tr>\n",
              "      <th>NO_Q002</th>\n",
              "      <th></th>\n",
              "    </tr>\n",
              "  </thead>\n",
              "  <tbody>\n",
              "    <tr>\n",
              "      <th>Completou a Pós-graduação</th>\n",
              "      <td>671.556357</td>\n",
              "    </tr>\n",
              "    <tr>\n",
              "      <th>Completou a Faculdade, mas não completou a Pós-graduação</th>\n",
              "      <td>640.166001</td>\n",
              "    </tr>\n",
              "    <tr>\n",
              "      <th>Completou o Ensino Médio, mas não completou a Faculdade</th>\n",
              "      <td>551.854163</td>\n",
              "    </tr>\n",
              "    <tr>\n",
              "      <th>Completou a 8ª série/9º ano do Ensino Fundamental, mas não completou o Ensino Médio</th>\n",
              "      <td>512.237069</td>\n",
              "    </tr>\n",
              "    <tr>\n",
              "      <th>Completou a 4ª série/5º ano, mas não completou a 8ª série/9º ano do Ensino Fundamental</th>\n",
              "      <td>493.775883</td>\n",
              "    </tr>\n",
              "    <tr>\n",
              "      <th>Não completou a 4ª série/5º ano do Ensino Fundamental</th>\n",
              "      <td>468.737647</td>\n",
              "    </tr>\n",
              "    <tr>\n",
              "      <th>Não sei</th>\n",
              "      <td>466.216894</td>\n",
              "    </tr>\n",
              "    <tr>\n",
              "      <th>Nunca estudou</th>\n",
              "      <td>422.815270</td>\n",
              "    </tr>\n",
              "  </tbody>\n",
              "</table>\n",
              "</div>"
            ],
            "text/plain": [
              "                                                    NU_NOTA_REDACAO\n",
              "NO_Q002                                                            \n",
              "Completou a Pós-graduação                                671.556357\n",
              "Completou a Faculdade, mas não completou a Pós-...       640.166001\n",
              "Completou o Ensino Médio, mas não completou a F...       551.854163\n",
              "Completou a 8ª série/9º ano do Ensino Fundament...       512.237069\n",
              "Completou a 4ª série/5º ano, mas não completou ...       493.775883\n",
              "Não completou a 4ª série/5º ano do Ensino Funda...       468.737647\n",
              "Não sei                                                  466.216894\n",
              "Nunca estudou                                            422.815270"
            ]
          },
          "metadata": {
            "tags": []
          },
          "execution_count": 24
        }
      ]
    },
    {
      "cell_type": "code",
      "metadata": {
        "id": "-C2_x0n5lzGT",
        "colab_type": "code",
        "colab": {
          "base_uri": "https://localhost:8080/",
          "height": 362
        },
        "outputId": "4c8b6070-231b-4bc4-ce16-f02107af1b1d"
      },
      "source": [
        "microdadosEnem.filter(items=['NU_NOTA_REDACAO', 'NO_Q002'])\\\n",
        ".where(microdadosEnem.SG_UF_RESIDENCIA == 'SP')\\\n",
        ".groupby('NO_Q002').mean().sort_values(by='NU_NOTA_REDACAO', ascending = False)"
      ],
      "execution_count": 25,
      "outputs": [
        {
          "output_type": "execute_result",
          "data": {
            "text/html": [
              "<div>\n",
              "<style scoped>\n",
              "    .dataframe tbody tr th:only-of-type {\n",
              "        vertical-align: middle;\n",
              "    }\n",
              "\n",
              "    .dataframe tbody tr th {\n",
              "        vertical-align: top;\n",
              "    }\n",
              "\n",
              "    .dataframe thead th {\n",
              "        text-align: right;\n",
              "    }\n",
              "</style>\n",
              "<table border=\"1\" class=\"dataframe\">\n",
              "  <thead>\n",
              "    <tr style=\"text-align: right;\">\n",
              "      <th></th>\n",
              "      <th>NU_NOTA_REDACAO</th>\n",
              "    </tr>\n",
              "    <tr>\n",
              "      <th>NO_Q002</th>\n",
              "      <th></th>\n",
              "    </tr>\n",
              "  </thead>\n",
              "  <tbody>\n",
              "    <tr>\n",
              "      <th>Completou a Pós-graduação</th>\n",
              "      <td>631.897240</td>\n",
              "    </tr>\n",
              "    <tr>\n",
              "      <th>Completou a Faculdade, mas não completou a Pós-graduação</th>\n",
              "      <td>611.155591</td>\n",
              "    </tr>\n",
              "    <tr>\n",
              "      <th>Completou o Ensino Médio, mas não completou a Faculdade</th>\n",
              "      <td>537.377448</td>\n",
              "    </tr>\n",
              "    <tr>\n",
              "      <th>Completou a 8ª série/9º ano do Ensino Fundamental, mas não completou o Ensino Médio</th>\n",
              "      <td>505.548170</td>\n",
              "    </tr>\n",
              "    <tr>\n",
              "      <th>Completou a 4ª série/5º ano, mas não completou a 8ª série/9º ano do Ensino Fundamental</th>\n",
              "      <td>492.396846</td>\n",
              "    </tr>\n",
              "    <tr>\n",
              "      <th>Não completou a 4ª série/5º ano do Ensino Fundamental</th>\n",
              "      <td>466.911382</td>\n",
              "    </tr>\n",
              "    <tr>\n",
              "      <th>Não sei</th>\n",
              "      <td>464.232837</td>\n",
              "    </tr>\n",
              "    <tr>\n",
              "      <th>Nunca estudou</th>\n",
              "      <td>415.417750</td>\n",
              "    </tr>\n",
              "  </tbody>\n",
              "</table>\n",
              "</div>"
            ],
            "text/plain": [
              "                                                    NU_NOTA_REDACAO\n",
              "NO_Q002                                                            \n",
              "Completou a Pós-graduação                                631.897240\n",
              "Completou a Faculdade, mas não completou a Pós-...       611.155591\n",
              "Completou o Ensino Médio, mas não completou a F...       537.377448\n",
              "Completou a 8ª série/9º ano do Ensino Fundament...       505.548170\n",
              "Completou a 4ª série/5º ano, mas não completou ...       492.396846\n",
              "Não completou a 4ª série/5º ano do Ensino Funda...       466.911382\n",
              "Não sei                                                  464.232837\n",
              "Nunca estudou                                            415.417750"
            ]
          },
          "metadata": {
            "tags": []
          },
          "execution_count": 25
        }
      ]
    },
    {
      "cell_type": "code",
      "metadata": {
        "id": "CEtPeaphmVDS",
        "colab_type": "code",
        "colab": {
          "base_uri": "https://localhost:8080/",
          "height": 362
        },
        "outputId": "80557913-92e5-4882-e490-b8405df67f27"
      },
      "source": [
        "microdadosEnem.filter(items=['NU_NOTA_REDACAO', 'NO_Q002'])\\\n",
        ".where(microdadosEnem.SG_UF_RESIDENCIA == 'RS')\\\n",
        ".groupby('NO_Q002').mean().sort_values(by='NU_NOTA_REDACAO', ascending = False)"
      ],
      "execution_count": 26,
      "outputs": [
        {
          "output_type": "execute_result",
          "data": {
            "text/html": [
              "<div>\n",
              "<style scoped>\n",
              "    .dataframe tbody tr th:only-of-type {\n",
              "        vertical-align: middle;\n",
              "    }\n",
              "\n",
              "    .dataframe tbody tr th {\n",
              "        vertical-align: top;\n",
              "    }\n",
              "\n",
              "    .dataframe thead th {\n",
              "        text-align: right;\n",
              "    }\n",
              "</style>\n",
              "<table border=\"1\" class=\"dataframe\">\n",
              "  <thead>\n",
              "    <tr style=\"text-align: right;\">\n",
              "      <th></th>\n",
              "      <th>NU_NOTA_REDACAO</th>\n",
              "    </tr>\n",
              "    <tr>\n",
              "      <th>NO_Q002</th>\n",
              "      <th></th>\n",
              "    </tr>\n",
              "  </thead>\n",
              "  <tbody>\n",
              "    <tr>\n",
              "      <th>Completou a Pós-graduação</th>\n",
              "      <td>630.012616</td>\n",
              "    </tr>\n",
              "    <tr>\n",
              "      <th>Completou a Faculdade, mas não completou a Pós-graduação</th>\n",
              "      <td>605.029666</td>\n",
              "    </tr>\n",
              "    <tr>\n",
              "      <th>Completou o Ensino Médio, mas não completou a Faculdade</th>\n",
              "      <td>541.048219</td>\n",
              "    </tr>\n",
              "    <tr>\n",
              "      <th>Completou a 8ª série/9º ano do Ensino Fundamental, mas não completou o Ensino Médio</th>\n",
              "      <td>505.435124</td>\n",
              "    </tr>\n",
              "    <tr>\n",
              "      <th>Completou a 4ª série/5º ano, mas não completou a 8ª série/9º ano do Ensino Fundamental</th>\n",
              "      <td>492.664938</td>\n",
              "    </tr>\n",
              "    <tr>\n",
              "      <th>Não sei</th>\n",
              "      <td>468.037215</td>\n",
              "    </tr>\n",
              "    <tr>\n",
              "      <th>Não completou a 4ª série/5º ano do Ensino Fundamental</th>\n",
              "      <td>466.195520</td>\n",
              "    </tr>\n",
              "    <tr>\n",
              "      <th>Nunca estudou</th>\n",
              "      <td>419.815157</td>\n",
              "    </tr>\n",
              "  </tbody>\n",
              "</table>\n",
              "</div>"
            ],
            "text/plain": [
              "                                                    NU_NOTA_REDACAO\n",
              "NO_Q002                                                            \n",
              "Completou a Pós-graduação                                630.012616\n",
              "Completou a Faculdade, mas não completou a Pós-...       605.029666\n",
              "Completou o Ensino Médio, mas não completou a F...       541.048219\n",
              "Completou a 8ª série/9º ano do Ensino Fundament...       505.435124\n",
              "Completou a 4ª série/5º ano, mas não completou ...       492.664938\n",
              "Não sei                                                  468.037215\n",
              "Não completou a 4ª série/5º ano do Ensino Funda...       466.195520\n",
              "Nunca estudou                                            419.815157"
            ]
          },
          "metadata": {
            "tags": []
          },
          "execution_count": 26
        }
      ]
    },
    {
      "cell_type": "code",
      "metadata": {
        "id": "lUR7mX-jmX4y",
        "colab_type": "code",
        "colab": {
          "base_uri": "https://localhost:8080/",
          "height": 484
        },
        "outputId": "347d510d-6281-49e1-a4ac-734f529572a9"
      },
      "source": [
        "microdadosEnem.filter(items=['SG_UF_RESIDENCIA', 'NU_NOTA_REDACAO', 'NO_Q002'])\\\n",
        ".groupby(['SG_UF_RESIDENCIA', 'NO_Q002']).mean()"
      ],
      "execution_count": 27,
      "outputs": [
        {
          "output_type": "execute_result",
          "data": {
            "text/html": [
              "<div>\n",
              "<style scoped>\n",
              "    .dataframe tbody tr th:only-of-type {\n",
              "        vertical-align: middle;\n",
              "    }\n",
              "\n",
              "    .dataframe tbody tr th {\n",
              "        vertical-align: top;\n",
              "    }\n",
              "\n",
              "    .dataframe thead th {\n",
              "        text-align: right;\n",
              "    }\n",
              "</style>\n",
              "<table border=\"1\" class=\"dataframe\">\n",
              "  <thead>\n",
              "    <tr style=\"text-align: right;\">\n",
              "      <th></th>\n",
              "      <th></th>\n",
              "      <th>NU_NOTA_REDACAO</th>\n",
              "    </tr>\n",
              "    <tr>\n",
              "      <th>SG_UF_RESIDENCIA</th>\n",
              "      <th>NO_Q002</th>\n",
              "      <th></th>\n",
              "    </tr>\n",
              "  </thead>\n",
              "  <tbody>\n",
              "    <tr>\n",
              "      <th rowspan=\"5\" valign=\"top\">AC</th>\n",
              "      <th>Completou a 4ª série/5º ano, mas não completou a 8ª série/9º ano do Ensino Fundamental</th>\n",
              "      <td>450.627015</td>\n",
              "    </tr>\n",
              "    <tr>\n",
              "      <th>Completou a 8ª série/9º ano do Ensino Fundamental, mas não completou o Ensino Médio</th>\n",
              "      <td>467.791390</td>\n",
              "    </tr>\n",
              "    <tr>\n",
              "      <th>Completou a Faculdade, mas não completou a Pós-graduação</th>\n",
              "      <td>534.755917</td>\n",
              "    </tr>\n",
              "    <tr>\n",
              "      <th>Completou a Pós-graduação</th>\n",
              "      <td>556.451017</td>\n",
              "    </tr>\n",
              "    <tr>\n",
              "      <th>Completou o Ensino Médio, mas não completou a Faculdade</th>\n",
              "      <td>481.718644</td>\n",
              "    </tr>\n",
              "    <tr>\n",
              "      <th>...</th>\n",
              "      <th>...</th>\n",
              "      <td>...</td>\n",
              "    </tr>\n",
              "    <tr>\n",
              "      <th rowspan=\"5\" valign=\"top\">TO</th>\n",
              "      <th>Completou a Pós-graduação</th>\n",
              "      <td>573.382937</td>\n",
              "    </tr>\n",
              "    <tr>\n",
              "      <th>Completou o Ensino Médio, mas não completou a Faculdade</th>\n",
              "      <td>485.402757</td>\n",
              "    </tr>\n",
              "    <tr>\n",
              "      <th>Nunca estudou</th>\n",
              "      <td>386.487730</td>\n",
              "    </tr>\n",
              "    <tr>\n",
              "      <th>Não completou a 4ª série/5º ano do Ensino Fundamental</th>\n",
              "      <td>423.298339</td>\n",
              "    </tr>\n",
              "    <tr>\n",
              "      <th>Não sei</th>\n",
              "      <td>428.539130</td>\n",
              "    </tr>\n",
              "  </tbody>\n",
              "</table>\n",
              "<p>216 rows × 1 columns</p>\n",
              "</div>"
            ],
            "text/plain": [
              "                                                                     NU_NOTA_REDACAO\n",
              "SG_UF_RESIDENCIA NO_Q002                                                            \n",
              "AC               Completou a 4ª série/5º ano, mas não completou ...       450.627015\n",
              "                 Completou a 8ª série/9º ano do Ensino Fundament...       467.791390\n",
              "                 Completou a Faculdade, mas não completou a Pós-...       534.755917\n",
              "                 Completou a Pós-graduação                                556.451017\n",
              "                 Completou o Ensino Médio, mas não completou a F...       481.718644\n",
              "...                                                                              ...\n",
              "TO               Completou a Pós-graduação                                573.382937\n",
              "                 Completou o Ensino Médio, mas não completou a F...       485.402757\n",
              "                 Nunca estudou                                            386.487730\n",
              "                 Não completou a 4ª série/5º ano do Ensino Funda...       423.298339\n",
              "                 Não sei                                                  428.539130\n",
              "\n",
              "[216 rows x 1 columns]"
            ]
          },
          "metadata": {
            "tags": []
          },
          "execution_count": 27
        }
      ]
    },
    {
      "cell_type": "markdown",
      "metadata": {
        "id": "OLkgxMJ-nXK8",
        "colab_type": "text"
      },
      "source": [
        "utilizando o pacote matplotlib para visualizar a tendência dos dados"
      ]
    },
    {
      "cell_type": "code",
      "metadata": {
        "id": "yPhBOkjTnNnq",
        "colab_type": "code",
        "colab": {}
      },
      "source": [
        "import matplotlib.pyplot as plt"
      ],
      "execution_count": 28,
      "outputs": []
    },
    {
      "cell_type": "code",
      "metadata": {
        "id": "k1f1ZD3OnfvC",
        "colab_type": "code",
        "colab": {
          "base_uri": "https://localhost:8080/",
          "height": 421
        },
        "outputId": "338e38d2-1fba-44c0-bb31-8e27277de3b0"
      },
      "source": [
        "# fig, ax = plt.subplots(figsize=(16,8))\n",
        "# plt.suptitle('Nota Redação x Escolaridade x Estado')\n",
        "\n",
        "ax = microdadosEnem.filter(items=['SG_UF_RESIDENCIA', 'NU_NOTA_REDACAO', 'Q002'])\\\n",
        ".groupby(['Q002', 'SG_UF_RESIDENCIA']).mean().sort_values(by='NU_NOTA_REDACAO', ascending=False)\\\n",
        ".unstack().plot(figsize=(16,8), colormap='viridis')\n",
        "ax.set_title('Nota Redação x Escolaridade x Estado', fontsize=20)\n",
        "\n",
        "handles, labels = ax.get_legend_handles_labels()\n",
        "import re\n",
        "edited_labels = [re.search(',\\s(.+?)\\)', label).group(1) for label in labels]\n",
        "ax.legend(edited_labels, bbox_to_anchor=(1.05, 1), loc=0, borderaxespad=0.)\n",
        "\n",
        "textdictQ002 = \"\"\n",
        "for key, value in q001e002Dicionario.items():\n",
        "  textdictQ002 = textdictQ002 + \"{key} : {value}\\n\".format(key=key,value=value)\n",
        "\n",
        "ax.text(0.02, 0.65, textdictQ002, transform=ax.transAxes, fontsize=12,\n",
        "        bbox={'boxstyle':'round', 'facecolor':'darkturquoise', 'alpha':0.7})"
      ],
      "execution_count": 60,
      "outputs": [
        {
          "output_type": "execute_result",
          "data": {
            "text/plain": [
              "Text(0.02, 0.65, 'A : Nunca estudou\\nB : Não completou a 4ª série/5º ano do Ensino Fundamental\\nC : Completou a 4ª série/5º ano, mas não completou a 8ª série/9º ano do Ensino Fundamental\\nD : Completou a 8ª série/9º ano do Ensino Fundamental, mas não completou o Ensino Médio\\nE : Completou o Ensino Médio, mas não completou a Faculdade\\nF : Completou a Faculdade, mas não completou a Pós-graduação\\nG : Completou a Pós-graduação\\nH : Não sei\\n')"
            ]
          },
          "metadata": {
            "tags": []
          },
          "execution_count": 60
        },
        {
          "output_type": "display_data",
          "data": {
            "image/png": "[encoded data removed]",
            "text/plain": [
              "<Figure size 1152x576 with 1 Axes>"
            ]
          },
          "metadata": {
            "tags": [],
            "needs_background": "light"
          }
        }
      ]
    },
    {
      "cell_type": "code",
      "metadata": {
        "id": "R0VE2dCZsDhW",
        "colab_type": "code",
        "colab": {}
      },
      "source": [
        ""
      ],
      "execution_count": null,
      "outputs": []
    }
  ]
}